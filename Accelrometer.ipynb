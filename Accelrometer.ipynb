{
 "cells": [
  {
   "cell_type": "code",
   "execution_count": 3,
   "id": "8c207101",
   "metadata": {},
   "outputs": [
    {
     "name": "stdout",
     "output_type": "stream",
     "text": [
      "Accelerometer dataset cleaned successfully. Blank list values have been replaced with the computed mean values.\n"
     ]
    }
   ],
   "source": [
    "import pandas as pd\n",
    "import numpy as np\n",
    "import ast\n",
    "import re\n",
    "\n",
    "# Load the gyroscope dataset (update the path as needed)\n",
    "df = pd.read_csv(\"accelerometer_labeled.csv\")\n",
    "\n",
    "# List of gyroscope columns to update\n",
    "gyro_columns = [\"x-acc\", \"y-acc\", \"z-acc\"]\n",
    "\n",
    "def compute_list_mean(cell):\n",
    "    \"\"\"\n",
    "    Convert a string representation of a list to an actual list,\n",
    "    then convert each element to float and compute the mean.\n",
    "    If the cell represents an empty list or conversion fails, return np.nan.\n",
    "    \"\"\"\n",
    "    # If the cell is missing, return NaN\n",
    "    if pd.isnull(cell):\n",
    "        return np.nan\n",
    "    \n",
    "    # If the cell is a string, remove whitespace and check if it equals \"[]\"\n",
    "    if isinstance(cell, str):\n",
    "        if re.sub(r\"\\s+\", \"\", cell) == \"[]\":\n",
    "            return np.nan\n",
    "\n",
    "    try:\n",
    "        # Convert the cell (if string) to an actual list\n",
    "        lst = ast.literal_eval(cell)\n",
    "    except Exception:\n",
    "        return np.nan\n",
    "\n",
    "    # If the list is empty, return NaN\n",
    "    if not lst:\n",
    "        return np.nan\n",
    "\n",
    "    try:\n",
    "        # Convert each element in the list to a float\n",
    "        float_lst = [float(x) for x in lst]\n",
    "    except Exception:\n",
    "        return np.nan\n",
    "\n",
    "    return np.mean(float_lst)\n",
    "\n",
    "# Process each gyroscope column and update the original column\n",
    "for col in gyro_columns:\n",
    "    # Compute the mean for each row in the column\n",
    "    computed_means = df[col].apply(compute_list_mean)\n",
    "    \n",
    "    # Compute the overall mean from the computed values (ignoring NaNs)\n",
    "    overall_mean = computed_means.mean()\n",
    "    \n",
    "    # Replace any NaN (from empty lists or conversion errors) with the overall mean\n",
    "    computed_means.fillna(overall_mean, inplace=True)\n",
    "    \n",
    "    # Update the original column with the computed means\n",
    "    df[col] = computed_means\n",
    "\n",
    "# Save the updated dataset to a new CSV file\n",
    "output_path = \"accelerometer_data_cleaned.csv\"\n",
    "df.to_csv(output_path, index=False)\n",
    "\n",
    "print(\"Accelerometer dataset cleaned successfully. Blank list values have been replaced with the computed mean values.\")"
   ]
  },
  {
   "cell_type": "code",
   "execution_count": 4,
   "id": "f8160d78",
   "metadata": {},
   "outputs": [],
   "source": [
    "from sklearn.preprocessing import StandardScaler\n",
    "from sklearn.model_selection import train_test_split\n",
    "from sklearn.metrics import classification_report\n",
    "from sklearn.metrics import accuracy_score\n",
    "from sklearn.linear_model import LogisticRegression\n",
    "from sklearn.neighbors import KNeighborsClassifier\n",
    "from sklearn.tree import DecisionTreeClassifier\n",
    "from sklearn.ensemble import RandomForestClassifier\n",
    "from sklearn.naive_bayes import GaussianNB\n",
    "from sklearn.svm import SVC\n",
    "import sklearn.metrics as sm\n",
    "import matplotlib.pyplot as plt"
   ]
  },
  {
   "cell_type": "code",
   "execution_count": 5,
   "id": "d88be1a9",
   "metadata": {},
   "outputs": [
    {
     "data": {
      "text/html": [
       "<div>\n",
       "<style scoped>\n",
       "    .dataframe tbody tr th:only-of-type {\n",
       "        vertical-align: middle;\n",
       "    }\n",
       "\n",
       "    .dataframe tbody tr th {\n",
       "        vertical-align: top;\n",
       "    }\n",
       "\n",
       "    .dataframe thead th {\n",
       "        text-align: right;\n",
       "    }\n",
       "</style>\n",
       "<table border=\"1\" class=\"dataframe\">\n",
       "  <thead>\n",
       "    <tr style=\"text-align: right;\">\n",
       "      <th></th>\n",
       "      <th>x-acc</th>\n",
       "      <th>y-acc</th>\n",
       "      <th>z-acc</th>\n",
       "      <th>label</th>\n",
       "    </tr>\n",
       "  </thead>\n",
       "  <tbody>\n",
       "    <tr>\n",
       "      <th>0</th>\n",
       "      <td>-2.308986</td>\n",
       "      <td>-9.460555</td>\n",
       "      <td>-0.288943</td>\n",
       "      <td>1</td>\n",
       "    </tr>\n",
       "    <tr>\n",
       "      <th>1</th>\n",
       "      <td>2.424536</td>\n",
       "      <td>-2.739367</td>\n",
       "      <td>-6.373442</td>\n",
       "      <td>1</td>\n",
       "    </tr>\n",
       "    <tr>\n",
       "      <th>2</th>\n",
       "      <td>-0.380913</td>\n",
       "      <td>-0.054764</td>\n",
       "      <td>-0.016772</td>\n",
       "      <td>1</td>\n",
       "    </tr>\n",
       "    <tr>\n",
       "      <th>3</th>\n",
       "      <td>-0.005818</td>\n",
       "      <td>0.072634</td>\n",
       "      <td>0.157605</td>\n",
       "      <td>1</td>\n",
       "    </tr>\n",
       "    <tr>\n",
       "      <th>4</th>\n",
       "      <td>-2.854006</td>\n",
       "      <td>-8.689155</td>\n",
       "      <td>-1.810860</td>\n",
       "      <td>1</td>\n",
       "    </tr>\n",
       "    <tr>\n",
       "      <th>...</th>\n",
       "      <td>...</td>\n",
       "      <td>...</td>\n",
       "      <td>...</td>\n",
       "      <td>...</td>\n",
       "    </tr>\n",
       "    <tr>\n",
       "      <th>245</th>\n",
       "      <td>-2.247550</td>\n",
       "      <td>-0.836797</td>\n",
       "      <td>0.867897</td>\n",
       "      <td>3</td>\n",
       "    </tr>\n",
       "    <tr>\n",
       "      <th>246</th>\n",
       "      <td>-0.041364</td>\n",
       "      <td>0.060388</td>\n",
       "      <td>-0.097665</td>\n",
       "      <td>3</td>\n",
       "    </tr>\n",
       "    <tr>\n",
       "      <th>247</th>\n",
       "      <td>0.008721</td>\n",
       "      <td>0.016752</td>\n",
       "      <td>-0.023067</td>\n",
       "      <td>3</td>\n",
       "    </tr>\n",
       "    <tr>\n",
       "      <th>248</th>\n",
       "      <td>-0.828775</td>\n",
       "      <td>-9.893715</td>\n",
       "      <td>-0.773312</td>\n",
       "      <td>3</td>\n",
       "    </tr>\n",
       "    <tr>\n",
       "      <th>249</th>\n",
       "      <td>0.006153</td>\n",
       "      <td>0.012181</td>\n",
       "      <td>-0.022544</td>\n",
       "      <td>3</td>\n",
       "    </tr>\n",
       "  </tbody>\n",
       "</table>\n",
       "<p>250 rows × 4 columns</p>\n",
       "</div>"
      ],
      "text/plain": [
       "        x-acc     y-acc     z-acc  label\n",
       "0   -2.308986 -9.460555 -0.288943      1\n",
       "1    2.424536 -2.739367 -6.373442      1\n",
       "2   -0.380913 -0.054764 -0.016772      1\n",
       "3   -0.005818  0.072634  0.157605      1\n",
       "4   -2.854006 -8.689155 -1.810860      1\n",
       "..        ...       ...       ...    ...\n",
       "245 -2.247550 -0.836797  0.867897      3\n",
       "246 -0.041364  0.060388 -0.097665      3\n",
       "247  0.008721  0.016752 -0.023067      3\n",
       "248 -0.828775 -9.893715 -0.773312      3\n",
       "249  0.006153  0.012181 -0.022544      3\n",
       "\n",
       "[250 rows x 4 columns]"
      ]
     },
     "execution_count": 5,
     "metadata": {},
     "output_type": "execute_result"
    }
   ],
   "source": [
    "df = pd.read_csv(\"accelerometer_data_cleaned.csv\")\n",
    "df"
   ]
  },
  {
   "cell_type": "code",
   "execution_count": 6,
   "id": "e2e27cad",
   "metadata": {},
   "outputs": [
    {
     "name": "stdout",
     "output_type": "stream",
     "text": [
      "(250, 4)\n",
      "<class 'pandas.core.frame.DataFrame'>\n",
      "RangeIndex: 250 entries, 0 to 249\n",
      "Data columns (total 4 columns):\n",
      " #   Column  Non-Null Count  Dtype  \n",
      "---  ------  --------------  -----  \n",
      " 0   x-acc   250 non-null    float64\n",
      " 1   y-acc   250 non-null    float64\n",
      " 2   z-acc   250 non-null    float64\n",
      " 3   label   250 non-null    int64  \n",
      "dtypes: float64(3), int64(1)\n",
      "memory usage: 7.9 KB\n"
     ]
    }
   ],
   "source": [
    "print(df.shape)\n",
    "df.info()"
   ]
  },
  {
   "cell_type": "code",
   "execution_count": 7,
   "id": "6c3a61ec",
   "metadata": {},
   "outputs": [
    {
     "data": {
      "text/html": [
       "<div>\n",
       "<style scoped>\n",
       "    .dataframe tbody tr th:only-of-type {\n",
       "        vertical-align: middle;\n",
       "    }\n",
       "\n",
       "    .dataframe tbody tr th {\n",
       "        vertical-align: top;\n",
       "    }\n",
       "\n",
       "    .dataframe thead th {\n",
       "        text-align: right;\n",
       "    }\n",
       "</style>\n",
       "<table border=\"1\" class=\"dataframe\">\n",
       "  <thead>\n",
       "    <tr style=\"text-align: right;\">\n",
       "      <th></th>\n",
       "      <th>x-acc</th>\n",
       "      <th>y-acc</th>\n",
       "      <th>z-acc</th>\n",
       "      <th>label</th>\n",
       "    </tr>\n",
       "  </thead>\n",
       "  <tbody>\n",
       "    <tr>\n",
       "      <th>count</th>\n",
       "      <td>250.000000</td>\n",
       "      <td>250.000000</td>\n",
       "      <td>250.000000</td>\n",
       "      <td>250.000000</td>\n",
       "    </tr>\n",
       "    <tr>\n",
       "      <th>mean</th>\n",
       "      <td>-0.424594</td>\n",
       "      <td>-3.767885</td>\n",
       "      <td>-0.613298</td>\n",
       "      <td>2.156000</td>\n",
       "    </tr>\n",
       "    <tr>\n",
       "      <th>std</th>\n",
       "      <td>2.963641</td>\n",
       "      <td>4.480126</td>\n",
       "      <td>2.376887</td>\n",
       "      <td>0.875632</td>\n",
       "    </tr>\n",
       "    <tr>\n",
       "      <th>min</th>\n",
       "      <td>-9.521290</td>\n",
       "      <td>-10.365651</td>\n",
       "      <td>-9.202413</td>\n",
       "      <td>1.000000</td>\n",
       "    </tr>\n",
       "    <tr>\n",
       "      <th>25%</th>\n",
       "      <td>-1.367879</td>\n",
       "      <td>-8.646570</td>\n",
       "      <td>-1.437912</td>\n",
       "      <td>1.000000</td>\n",
       "    </tr>\n",
       "    <tr>\n",
       "      <th>50%</th>\n",
       "      <td>-0.060226</td>\n",
       "      <td>-2.708641</td>\n",
       "      <td>-0.143715</td>\n",
       "      <td>2.000000</td>\n",
       "    </tr>\n",
       "    <tr>\n",
       "      <th>75%</th>\n",
       "      <td>0.403943</td>\n",
       "      <td>0.032343</td>\n",
       "      <td>0.147200</td>\n",
       "      <td>3.000000</td>\n",
       "    </tr>\n",
       "    <tr>\n",
       "      <th>max</th>\n",
       "      <td>9.238186</td>\n",
       "      <td>5.872362</td>\n",
       "      <td>9.855021</td>\n",
       "      <td>3.000000</td>\n",
       "    </tr>\n",
       "  </tbody>\n",
       "</table>\n",
       "</div>"
      ],
      "text/plain": [
       "            x-acc       y-acc       z-acc       label\n",
       "count  250.000000  250.000000  250.000000  250.000000\n",
       "mean    -0.424594   -3.767885   -0.613298    2.156000\n",
       "std      2.963641    4.480126    2.376887    0.875632\n",
       "min     -9.521290  -10.365651   -9.202413    1.000000\n",
       "25%     -1.367879   -8.646570   -1.437912    1.000000\n",
       "50%     -0.060226   -2.708641   -0.143715    2.000000\n",
       "75%      0.403943    0.032343    0.147200    3.000000\n",
       "max      9.238186    5.872362    9.855021    3.000000"
      ]
     },
     "execution_count": 7,
     "metadata": {},
     "output_type": "execute_result"
    }
   ],
   "source": [
    "df.describe()"
   ]
  },
  {
   "cell_type": "code",
   "execution_count": 8,
   "id": "ad507f24",
   "metadata": {},
   "outputs": [],
   "source": [
    "X = df[['x-acc', 'y-acc','z-acc']].values"
   ]
  },
  {
   "cell_type": "code",
   "execution_count": 9,
   "id": "e071814a",
   "metadata": {},
   "outputs": [],
   "source": [
    "y =df[[\"label\"]].values"
   ]
  },
  {
   "cell_type": "code",
   "execution_count": 10,
   "id": "a7baf614",
   "metadata": {},
   "outputs": [],
   "source": [
    "X_train,X_test,y_train,y_test= train_test_split(X,y,test_size=0.2,random_state=0)"
   ]
  },
  {
   "cell_type": "code",
   "execution_count": 11,
   "id": "dbb74981",
   "metadata": {},
   "outputs": [
    {
     "name": "stdout",
     "output_type": "stream",
     "text": [
      "Classification Report:\n",
      "               precision    recall  f1-score   support\n",
      "\n",
      "           1       0.00      0.00      0.00        16\n",
      "           2       0.00      0.00      0.00        15\n",
      "           3       0.38      1.00      0.55        19\n",
      "\n",
      "    accuracy                           0.38        50\n",
      "   macro avg       0.13      0.33      0.18        50\n",
      "weighted avg       0.14      0.38      0.21        50\n",
      "\n"
     ]
    },
    {
     "name": "stderr",
     "output_type": "stream",
     "text": [
      "C:\\Users\\91977\\anaconda3\\Lib\\site-packages\\sklearn\\utils\\validation.py:1184: DataConversionWarning: A column-vector y was passed when a 1d array was expected. Please change the shape of y to (n_samples, ), for example using ravel().\n",
      "  y = column_or_1d(y, warn=True)\n",
      "C:\\Users\\91977\\anaconda3\\Lib\\site-packages\\sklearn\\metrics\\_classification.py:1469: UndefinedMetricWarning: Precision and F-score are ill-defined and being set to 0.0 in labels with no predicted samples. Use `zero_division` parameter to control this behavior.\n",
      "  _warn_prf(average, modifier, msg_start, len(result))\n",
      "C:\\Users\\91977\\anaconda3\\Lib\\site-packages\\sklearn\\metrics\\_classification.py:1469: UndefinedMetricWarning: Precision and F-score are ill-defined and being set to 0.0 in labels with no predicted samples. Use `zero_division` parameter to control this behavior.\n",
      "  _warn_prf(average, modifier, msg_start, len(result))\n",
      "C:\\Users\\91977\\anaconda3\\Lib\\site-packages\\sklearn\\metrics\\_classification.py:1469: UndefinedMetricWarning: Precision and F-score are ill-defined and being set to 0.0 in labels with no predicted samples. Use `zero_division` parameter to control this behavior.\n",
      "  _warn_prf(average, modifier, msg_start, len(result))\n"
     ]
    }
   ],
   "source": [
    "svc = SVC()\n",
    "svc.fit(X_train, y_train)\n",
    "y2_pred = svc.predict(X_test)\n",
    "print(\"Classification Report:\\n\",classification_report(y_test, y2_pred))"
   ]
  },
  {
   "cell_type": "code",
   "execution_count": 12,
   "id": "adf5d113",
   "metadata": {},
   "outputs": [
    {
     "data": {
      "text/plain": [
       "0.38"
      ]
     },
     "execution_count": 12,
     "metadata": {},
     "output_type": "execute_result"
    }
   ],
   "source": [
    "accuracy_score(y2_pred,y_test, normalize=True)"
   ]
  },
  {
   "cell_type": "code",
   "execution_count": 13,
   "id": "05b7543f",
   "metadata": {},
   "outputs": [
    {
     "data": {
      "text/plain": [
       "<Axes: >"
      ]
     },
     "execution_count": 13,
     "metadata": {},
     "output_type": "execute_result"
    },
    {
     "data": {
      "image/png": "[encoded data removed]",
      "text/plain": [
       "<Figure size 640x480 with 2 Axes>"
      ]
     },
     "metadata": {},
     "output_type": "display_data"
    }
   ],
   "source": [
    "import seaborn as sns\n",
    "con=sm.confusion_matrix(y2_pred,y_test)\n",
    "sns.heatmap(con,annot=True,cmap='Purples')"
   ]
  },
  {
   "cell_type": "code",
   "execution_count": 14,
   "id": "59696a63",
   "metadata": {},
   "outputs": [
    {
     "name": "stdout",
     "output_type": "stream",
     "text": [
      "Classification Report:\n",
      "               precision    recall  f1-score   support\n",
      "\n",
      "           1       0.32      0.44      0.37        16\n",
      "           2       0.43      0.20      0.27        15\n",
      "           3       0.38      0.42      0.40        19\n",
      "\n",
      "    accuracy                           0.36        50\n",
      "   macro avg       0.38      0.35      0.35        50\n",
      "weighted avg       0.38      0.36      0.35        50\n",
      "\n"
     ]
    }
   ],
   "source": [
    "dtc = DecisionTreeClassifier()\n",
    "dtc.fit(X_train, y_train)\n",
    "y3_pred = dtc.predict(X_test)\n",
    "print(\"Classification Report:\\n\",classification_report(y_test, y3_pred))"
   ]
  },
  {
   "cell_type": "code",
   "execution_count": 15,
   "id": "595976ab",
   "metadata": {},
   "outputs": [
    {
     "data": {
      "text/plain": [
       "0.36"
      ]
     },
     "execution_count": 15,
     "metadata": {},
     "output_type": "execute_result"
    }
   ],
   "source": [
    "accuracy_score(y3_pred,y_test, normalize=True)"
   ]
  },
  {
   "cell_type": "code",
   "execution_count": 16,
   "id": "7dece180",
   "metadata": {},
   "outputs": [
    {
     "data": {
      "text/plain": [
       "<Axes: >"
      ]
     },
     "execution_count": 16,
     "metadata": {},
     "output_type": "execute_result"
    },
    {
     "data": {
      "image/png": "[encoded data removed]",
      "text/plain": [
       "<Figure size 640x480 with 2 Axes>"
      ]
     },
     "metadata": {},
     "output_type": "display_data"
    }
   ],
   "source": [
    "con=sm.confusion_matrix(y3_pred,y_test)\n",
    "sns.heatmap(con,annot=True,cmap='Purples')"
   ]
  },
  {
   "cell_type": "code",
   "execution_count": 17,
   "id": "683099d9",
   "metadata": {},
   "outputs": [
    {
     "name": "stderr",
     "output_type": "stream",
     "text": [
      "C:\\Users\\91977\\anaconda3\\Lib\\site-packages\\sklearn\\base.py:1151: DataConversionWarning: A column-vector y was passed when a 1d array was expected. Please change the shape of y to (n_samples,), for example using ravel().\n",
      "  return fit_method(estimator, *args, **kwargs)\n"
     ]
    }
   ],
   "source": [
    "import time\n",
    "start_rfc = time.time()\n",
    "rfc = RandomForestClassifier(random_state=0, n_jobs=-1, max_depth=5, n_estimators=100, oob_score=True)\n",
    "rfc.fit(X_train, y_train)\n",
    "end_rfc = time.time()\n",
    "final_rfc = end_rfc - start_rfc\n",
    "final_rfc = round(final_rfc,3)\n",
    "y4_pred = rfc.predict(X_test)"
   ]
  },
  {
   "cell_type": "code",
   "execution_count": 18,
   "id": "3b5747f8",
   "metadata": {},
   "outputs": [
    {
     "name": "stdout",
     "output_type": "stream",
     "text": [
      "Computation time                    : 0.512Sec\n",
      "Classification Report:\n",
      "               precision    recall  f1-score   support\n",
      "\n",
      "           1       1.00      0.12      0.22        16\n",
      "           2       0.00      0.00      0.00        15\n",
      "           3       0.40      1.00      0.57        19\n",
      "\n",
      "    accuracy                           0.42        50\n",
      "   macro avg       0.47      0.38      0.26        50\n",
      "weighted avg       0.47      0.42      0.29        50\n",
      "\n"
     ]
    },
    {
     "name": "stderr",
     "output_type": "stream",
     "text": [
      "C:\\Users\\91977\\anaconda3\\Lib\\site-packages\\sklearn\\metrics\\_classification.py:1469: UndefinedMetricWarning: Precision and F-score are ill-defined and being set to 0.0 in labels with no predicted samples. Use `zero_division` parameter to control this behavior.\n",
      "  _warn_prf(average, modifier, msg_start, len(result))\n",
      "C:\\Users\\91977\\anaconda3\\Lib\\site-packages\\sklearn\\metrics\\_classification.py:1469: UndefinedMetricWarning: Precision and F-score are ill-defined and being set to 0.0 in labels with no predicted samples. Use `zero_division` parameter to control this behavior.\n",
      "  _warn_prf(average, modifier, msg_start, len(result))\n",
      "C:\\Users\\91977\\anaconda3\\Lib\\site-packages\\sklearn\\metrics\\_classification.py:1469: UndefinedMetricWarning: Precision and F-score are ill-defined and being set to 0.0 in labels with no predicted samples. Use `zero_division` parameter to control this behavior.\n",
      "  _warn_prf(average, modifier, msg_start, len(result))\n"
     ]
    }
   ],
   "source": [
    "print(\"Computation time                    : {}Sec\".format(final_rfc))\n",
    "print(\"Classification Report:\\n\",classification_report(y_test, y4_pred))"
   ]
  },
  {
   "cell_type": "code",
   "execution_count": 20,
   "id": "729c26d4",
   "metadata": {},
   "outputs": [
    {
     "data": {
      "text/plain": [
       "0.42"
      ]
     },
     "execution_count": 20,
     "metadata": {},
     "output_type": "execute_result"
    }
   ],
   "source": [
    "accuracy_score(y4_pred,y_test, normalize=True)"
   ]
  },
  {
   "cell_type": "code",
   "execution_count": 21,
   "id": "9fe0f132",
   "metadata": {},
   "outputs": [
    {
     "data": {
      "text/plain": [
       "<Axes: >"
      ]
     },
     "execution_count": 21,
     "metadata": {},
     "output_type": "execute_result"
    },
    {
     "data": {
      "image/png": "[encoded data removed]",
      "text/plain": [
       "<Figure size 640x480 with 2 Axes>"
      ]
     },
     "metadata": {},
     "output_type": "display_data"
    }
   ],
   "source": [
    "con=sm.confusion_matrix(y4_pred,y_test)\n",
    "sns.heatmap(con,annot=True,cmap='Purples')"
   ]
  },
  {
   "cell_type": "code",
   "execution_count": 22,
   "id": "0f53a778",
   "metadata": {},
   "outputs": [
    {
     "name": "stdout",
     "output_type": "stream",
     "text": [
      "Classification Report:\n",
      "               precision    recall  f1-score   support\n",
      "\n",
      "           1       0.00      0.00      0.00        16\n",
      "           2       0.00      0.00      0.00        15\n",
      "           3       0.38      1.00      0.55        19\n",
      "\n",
      "    accuracy                           0.38        50\n",
      "   macro avg       0.13      0.33      0.18        50\n",
      "weighted avg       0.14      0.38      0.21        50\n",
      "\n"
     ]
    },
    {
     "name": "stderr",
     "output_type": "stream",
     "text": [
      "C:\\Users\\91977\\anaconda3\\Lib\\site-packages\\sklearn\\utils\\validation.py:1184: DataConversionWarning: A column-vector y was passed when a 1d array was expected. Please change the shape of y to (n_samples, ), for example using ravel().\n",
      "  y = column_or_1d(y, warn=True)\n",
      "C:\\Users\\91977\\anaconda3\\Lib\\site-packages\\sklearn\\metrics\\_classification.py:1469: UndefinedMetricWarning: Precision and F-score are ill-defined and being set to 0.0 in labels with no predicted samples. Use `zero_division` parameter to control this behavior.\n",
      "  _warn_prf(average, modifier, msg_start, len(result))\n",
      "C:\\Users\\91977\\anaconda3\\Lib\\site-packages\\sklearn\\metrics\\_classification.py:1469: UndefinedMetricWarning: Precision and F-score are ill-defined and being set to 0.0 in labels with no predicted samples. Use `zero_division` parameter to control this behavior.\n",
      "  _warn_prf(average, modifier, msg_start, len(result))\n",
      "C:\\Users\\91977\\anaconda3\\Lib\\site-packages\\sklearn\\metrics\\_classification.py:1469: UndefinedMetricWarning: Precision and F-score are ill-defined and being set to 0.0 in labels with no predicted samples. Use `zero_division` parameter to control this behavior.\n",
      "  _warn_prf(average, modifier, msg_start, len(result))\n"
     ]
    }
   ],
   "source": [
    "nbmod=GaussianNB()\n",
    "nbmod.fit(X_train,y_train)\n",
    "y5_pred = nbmod.predict(X_test)\n",
    "print(\"Classification Report:\\n\",classification_report(y_test, y5_pred))"
   ]
  },
  {
   "cell_type": "code",
   "execution_count": 23,
   "id": "324a90a3",
   "metadata": {},
   "outputs": [
    {
     "data": {
      "text/plain": [
       "0.38"
      ]
     },
     "execution_count": 23,
     "metadata": {},
     "output_type": "execute_result"
    }
   ],
   "source": [
    "accuracy_score(y5_pred,y_test, normalize=True)"
   ]
  },
  {
   "cell_type": "code",
   "execution_count": 24,
   "id": "3241331e",
   "metadata": {},
   "outputs": [
    {
     "data": {
      "text/plain": [
       "<Axes: >"
      ]
     },
     "execution_count": 24,
     "metadata": {},
     "output_type": "execute_result"
    },
    {
     "data": {
      "image/png": "[encoded data removed]",
      "text/plain": [
       "<Figure size 640x480 with 2 Axes>"
      ]
     },
     "metadata": {},
     "output_type": "display_data"
    }
   ],
   "source": [
    "con=sm.confusion_matrix(y5_pred,y_test)\n",
    "sns.heatmap(con,annot=True,cmap='Purples')"
   ]
  },
  {
   "cell_type": "code",
   "execution_count": 25,
   "id": "b36f6e73",
   "metadata": {},
   "outputs": [
    {
     "name": "stdout",
     "output_type": "stream",
     "text": [
      "Classification Report:\n",
      "               precision    recall  f1-score   support\n",
      "\n",
      "           1       0.26      0.31      0.29        16\n",
      "           2       0.33      0.07      0.11        15\n",
      "           3       0.32      0.47      0.38        19\n",
      "\n",
      "    accuracy                           0.30        50\n",
      "   macro avg       0.31      0.28      0.26        50\n",
      "weighted avg       0.31      0.30      0.27        50\n",
      "\n"
     ]
    },
    {
     "name": "stderr",
     "output_type": "stream",
     "text": [
      "C:\\Users\\91977\\anaconda3\\Lib\\site-packages\\sklearn\\neighbors\\_classification.py:228: DataConversionWarning: A column-vector y was passed when a 1d array was expected. Please change the shape of y to (n_samples,), for example using ravel().\n",
      "  return self._fit(X, y)\n"
     ]
    }
   ],
   "source": [
    "knn = KNeighborsClassifier(n_neighbors = 3, metric = 'minkowski', p = 2)\n",
    "knn.fit(X_train, y_train)\n",
    "y6_pred = knn.predict(X_test)\n",
    "print(\"Classification Report:\\n\",classification_report(y_test, y6_pred))"
   ]
  },
  {
   "cell_type": "code",
   "execution_count": 26,
   "id": "fe9b338d",
   "metadata": {},
   "outputs": [
    {
     "data": {
      "text/plain": [
       "0.3"
      ]
     },
     "execution_count": 26,
     "metadata": {},
     "output_type": "execute_result"
    }
   ],
   "source": [
    "\n",
    "accuracy_score(y6_pred,y_test, normalize=True)"
   ]
  },
  {
   "cell_type": "code",
   "execution_count": 27,
   "id": "26975c39",
   "metadata": {},
   "outputs": [
    {
     "data": {
      "text/plain": [
       "<Axes: >"
      ]
     },
     "execution_count": 27,
     "metadata": {},
     "output_type": "execute_result"
    },
    {
     "data": {
      "image/png": "[encoded data removed]",
      "text/plain": [
       "<Figure size 640x480 with 2 Axes>"
      ]
     },
     "metadata": {},
     "output_type": "display_data"
    }
   ],
   "source": [
    "con=sm.confusion_matrix(y6_pred,y_test)\n",
    "sns.heatmap(con,annot=True,cmap='Purples')"
   ]
  },
  {
   "cell_type": "code",
   "execution_count": null,
   "id": "f49fb536",
   "metadata": {},
   "outputs": [],
   "source": []
  }
 ],
 "metadata": {
  "kernelspec": {
   "display_name": "Python 3 (ipykernel)",
   "language": "python",
   "name": "python3"
  },
  "language_info": {
   "codemirror_mode": {
    "name": "ipython",
    "version": 3
   },
   "file_extension": ".py",
   "mimetype": "text/x-python",
   "name": "python",
   "nbconvert_exporter": "python",
   "pygments_lexer": "ipython3",
   "version": "3.11.5"
  }
 },
 "nbformat": 4,
 "nbformat_minor": 5
}
