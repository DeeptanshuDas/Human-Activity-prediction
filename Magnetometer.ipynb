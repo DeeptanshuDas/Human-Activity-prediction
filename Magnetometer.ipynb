{
 "cells": [
  {
   "cell_type": "code",
   "execution_count": 2,
   "id": "049f4410",
   "metadata": {},
   "outputs": [
    {
     "name": "stdout",
     "output_type": "stream",
     "text": [
      "Magnetometer dataset cleaned successfully. Blank list values have been replaced with the computed mean values.\n"
     ]
    }
   ],
   "source": [
    "import pandas as pd\n",
    "import numpy as np\n",
    "import ast\n",
    "import re\n",
    "\n",
    "# Load the gyroscope dataset (update the path as needed)\n",
    "df = pd.read_csv(\"magnetometer_labeled.csv\")\n",
    "\n",
    "# List of gyroscope columns to update\n",
    "mag_columns = [\"x-mag\" ,\"y-mag\" ,\"z-mag\" ,\"label\" ]\n",
    "\n",
    "def compute_list_mean(cell):\n",
    "    \"\"\"\n",
    "    Convert a string representation of a list to an actual list,\n",
    "    then convert each element to float and compute the mean.\n",
    "    If the cell represents an empty list or conversion fails, return np.nan.\n",
    "    \"\"\"\n",
    "    # If the cell is missing, return NaN\n",
    "    if pd.isnull(cell):\n",
    "        return np.nan\n",
    "    \n",
    "    # If the cell is a string, remove whitespace and check if it equals \"[]\"\n",
    "    if isinstance(cell, str):\n",
    "        if re.sub(r\"\\s+\", \"\", cell) == \"[]\":\n",
    "            return np.nan\n",
    "\n",
    "    try:\n",
    "        # Convert the cell (if string) to an actual list\n",
    "        lst = ast.literal_eval(cell)\n",
    "    except Exception:\n",
    "        return np.nan\n",
    "\n",
    "    # If the list is empty, return NaN\n",
    "    if not lst:\n",
    "        return np.nan\n",
    "\n",
    "    try:\n",
    "        # Convert each element in the list to a float\n",
    "        float_lst = [float(x) for x in lst]\n",
    "    except Exception:\n",
    "        return np.nan\n",
    "\n",
    "    return np.mean(float_lst)\n",
    "\n",
    "# Process each gyroscope column and update the original column\n",
    "for col in mag_columns:\n",
    "    # Compute the mean for each row in the column\n",
    "    computed_means = df[col].apply(compute_list_mean)\n",
    "    \n",
    "    # Compute the overall mean from the computed values (ignoring NaNs)\n",
    "    overall_mean = computed_means.mean()\n",
    "    \n",
    "    # Replace any NaN (from empty lists or conversion errors) with the overall mean\n",
    "    computed_means.fillna(overall_mean, inplace=True)\n",
    "    \n",
    "    # Update the original column with the computed means\n",
    "    df[col] = computed_means\n",
    "\n",
    "# Save the updated dataset to a new CSV file\n",
    "output_path = \"magnetometer_data_cleaned.csv\"\n",
    "df.to_csv(output_path, index=False)\n",
    "\n",
    "print(\"Magnetometer dataset cleaned successfully. Blank list values have been replaced with the computed mean values.\")\n"
   ]
  },
  {
   "cell_type": "code",
   "execution_count": 12,
   "id": "d25c55ad",
   "metadata": {},
   "outputs": [],
   "source": [
    "from sklearn.preprocessing import StandardScaler\n",
    "from sklearn.model_selection import train_test_split\n",
    "from sklearn.metrics import classification_report\n",
    "from sklearn.metrics import accuracy_score\n",
    "from sklearn.linear_model import LogisticRegression\n",
    "from sklearn.neighbors import KNeighborsClassifier\n",
    "from sklearn.tree import DecisionTreeClassifier\n",
    "from sklearn.ensemble import RandomForestClassifier\n",
    "from sklearn.naive_bayes import GaussianNB\n",
    "from sklearn.svm import SVC\n",
    "import sklearn.metrics as sm\n",
    "import matplotlib.pyplot as plt"
   ]
  },
  {
   "cell_type": "code",
   "execution_count": 5,
   "id": "8020ee82",
   "metadata": {},
   "outputs": [
    {
     "data": {
      "text/html": [
       "<div>\n",
       "<style scoped>\n",
       "    .dataframe tbody tr th:only-of-type {\n",
       "        vertical-align: middle;\n",
       "    }\n",
       "\n",
       "    .dataframe tbody tr th {\n",
       "        vertical-align: top;\n",
       "    }\n",
       "\n",
       "    .dataframe thead th {\n",
       "        text-align: right;\n",
       "    }\n",
       "</style>\n",
       "<table border=\"1\" class=\"dataframe\">\n",
       "  <thead>\n",
       "    <tr style=\"text-align: right;\">\n",
       "      <th></th>\n",
       "      <th>x-mag</th>\n",
       "      <th>y-mag</th>\n",
       "      <th>z-mag</th>\n",
       "    </tr>\n",
       "  </thead>\n",
       "  <tbody>\n",
       "    <tr>\n",
       "      <th>0</th>\n",
       "      <td>-25.249571</td>\n",
       "      <td>36.749488</td>\n",
       "      <td>4.355913</td>\n",
       "    </tr>\n",
       "    <tr>\n",
       "      <th>1</th>\n",
       "      <td>29.477104</td>\n",
       "      <td>16.443255</td>\n",
       "      <td>44.744562</td>\n",
       "    </tr>\n",
       "    <tr>\n",
       "      <th>2</th>\n",
       "      <td>-34.627277</td>\n",
       "      <td>-41.387117</td>\n",
       "      <td>-23.319709</td>\n",
       "    </tr>\n",
       "    <tr>\n",
       "      <th>3</th>\n",
       "      <td>-7.926531</td>\n",
       "      <td>-39.617093</td>\n",
       "      <td>7.660001</td>\n",
       "    </tr>\n",
       "    <tr>\n",
       "      <th>4</th>\n",
       "      <td>19.858708</td>\n",
       "      <td>36.376683</td>\n",
       "      <td>24.680214</td>\n",
       "    </tr>\n",
       "    <tr>\n",
       "      <th>...</th>\n",
       "      <td>...</td>\n",
       "      <td>...</td>\n",
       "      <td>...</td>\n",
       "    </tr>\n",
       "    <tr>\n",
       "      <th>245</th>\n",
       "      <td>-1.230318</td>\n",
       "      <td>15.278670</td>\n",
       "      <td>11.477679</td>\n",
       "    </tr>\n",
       "    <tr>\n",
       "      <th>246</th>\n",
       "      <td>0.459700</td>\n",
       "      <td>-41.455025</td>\n",
       "      <td>-8.365606</td>\n",
       "    </tr>\n",
       "    <tr>\n",
       "      <th>247</th>\n",
       "      <td>12.781121</td>\n",
       "      <td>22.177835</td>\n",
       "      <td>-23.258548</td>\n",
       "    </tr>\n",
       "    <tr>\n",
       "      <th>248</th>\n",
       "      <td>24.862975</td>\n",
       "      <td>24.308524</td>\n",
       "      <td>-14.286830</td>\n",
       "    </tr>\n",
       "    <tr>\n",
       "      <th>249</th>\n",
       "      <td>8.844446</td>\n",
       "      <td>-45.398333</td>\n",
       "      <td>-8.487251</td>\n",
       "    </tr>\n",
       "  </tbody>\n",
       "</table>\n",
       "<p>250 rows × 3 columns</p>\n",
       "</div>"
      ],
      "text/plain": [
       "         x-mag      y-mag      z-mag\n",
       "0   -25.249571  36.749488   4.355913\n",
       "1    29.477104  16.443255  44.744562\n",
       "2   -34.627277 -41.387117 -23.319709\n",
       "3    -7.926531 -39.617093   7.660001\n",
       "4    19.858708  36.376683  24.680214\n",
       "..         ...        ...        ...\n",
       "245  -1.230318  15.278670  11.477679\n",
       "246   0.459700 -41.455025  -8.365606\n",
       "247  12.781121  22.177835 -23.258548\n",
       "248  24.862975  24.308524 -14.286830\n",
       "249   8.844446 -45.398333  -8.487251\n",
       "\n",
       "[250 rows x 3 columns]"
      ]
     },
     "execution_count": 5,
     "metadata": {},
     "output_type": "execute_result"
    }
   ],
   "source": [
    "df = pd.read_csv(\"magnetometer_data_cleaned.csv\")\n",
    "df.drop(\"label\", axis='columns')"
   ]
  },
  {
   "cell_type": "code",
   "execution_count": 6,
   "id": "3d63ce14",
   "metadata": {},
   "outputs": [
    {
     "data": {
      "text/html": [
       "<div>\n",
       "<style scoped>\n",
       "    .dataframe tbody tr th:only-of-type {\n",
       "        vertical-align: middle;\n",
       "    }\n",
       "\n",
       "    .dataframe tbody tr th {\n",
       "        vertical-align: top;\n",
       "    }\n",
       "\n",
       "    .dataframe thead th {\n",
       "        text-align: right;\n",
       "    }\n",
       "</style>\n",
       "<table border=\"1\" class=\"dataframe\">\n",
       "  <thead>\n",
       "    <tr style=\"text-align: right;\">\n",
       "      <th></th>\n",
       "      <th>x-mag</th>\n",
       "      <th>y-mag</th>\n",
       "      <th>z-mag</th>\n",
       "      <th>label</th>\n",
       "    </tr>\n",
       "  </thead>\n",
       "  <tbody>\n",
       "    <tr>\n",
       "      <th>0</th>\n",
       "      <td>-25.249571</td>\n",
       "      <td>36.749488</td>\n",
       "      <td>4.355913</td>\n",
       "      <td>1</td>\n",
       "    </tr>\n",
       "    <tr>\n",
       "      <th>1</th>\n",
       "      <td>29.477104</td>\n",
       "      <td>16.443255</td>\n",
       "      <td>44.744562</td>\n",
       "      <td>1</td>\n",
       "    </tr>\n",
       "    <tr>\n",
       "      <th>2</th>\n",
       "      <td>-34.627277</td>\n",
       "      <td>-41.387117</td>\n",
       "      <td>-23.319709</td>\n",
       "      <td>1</td>\n",
       "    </tr>\n",
       "    <tr>\n",
       "      <th>3</th>\n",
       "      <td>-7.926531</td>\n",
       "      <td>-39.617093</td>\n",
       "      <td>7.660001</td>\n",
       "      <td>1</td>\n",
       "    </tr>\n",
       "    <tr>\n",
       "      <th>4</th>\n",
       "      <td>19.858708</td>\n",
       "      <td>36.376683</td>\n",
       "      <td>24.680214</td>\n",
       "      <td>1</td>\n",
       "    </tr>\n",
       "    <tr>\n",
       "      <th>...</th>\n",
       "      <td>...</td>\n",
       "      <td>...</td>\n",
       "      <td>...</td>\n",
       "      <td>...</td>\n",
       "    </tr>\n",
       "    <tr>\n",
       "      <th>245</th>\n",
       "      <td>-1.230318</td>\n",
       "      <td>15.278670</td>\n",
       "      <td>11.477679</td>\n",
       "      <td>3</td>\n",
       "    </tr>\n",
       "    <tr>\n",
       "      <th>246</th>\n",
       "      <td>0.459700</td>\n",
       "      <td>-41.455025</td>\n",
       "      <td>-8.365606</td>\n",
       "      <td>3</td>\n",
       "    </tr>\n",
       "    <tr>\n",
       "      <th>247</th>\n",
       "      <td>12.781121</td>\n",
       "      <td>22.177835</td>\n",
       "      <td>-23.258548</td>\n",
       "      <td>3</td>\n",
       "    </tr>\n",
       "    <tr>\n",
       "      <th>248</th>\n",
       "      <td>24.862975</td>\n",
       "      <td>24.308524</td>\n",
       "      <td>-14.286830</td>\n",
       "      <td>3</td>\n",
       "    </tr>\n",
       "    <tr>\n",
       "      <th>249</th>\n",
       "      <td>8.844446</td>\n",
       "      <td>-45.398333</td>\n",
       "      <td>-8.487251</td>\n",
       "      <td>3</td>\n",
       "    </tr>\n",
       "  </tbody>\n",
       "</table>\n",
       "<p>250 rows × 4 columns</p>\n",
       "</div>"
      ],
      "text/plain": [
       "         x-mag      y-mag      z-mag  label\n",
       "0   -25.249571  36.749488   4.355913      1\n",
       "1    29.477104  16.443255  44.744562      1\n",
       "2   -34.627277 -41.387117 -23.319709      1\n",
       "3    -7.926531 -39.617093   7.660001      1\n",
       "4    19.858708  36.376683  24.680214      1\n",
       "..         ...        ...        ...    ...\n",
       "245  -1.230318  15.278670  11.477679      3\n",
       "246   0.459700 -41.455025  -8.365606      3\n",
       "247  12.781121  22.177835 -23.258548      3\n",
       "248  24.862975  24.308524 -14.286830      3\n",
       "249   8.844446 -45.398333  -8.487251      3\n",
       "\n",
       "[250 rows x 4 columns]"
      ]
     },
     "execution_count": 6,
     "metadata": {},
     "output_type": "execute_result"
    }
   ],
   "source": [
    "data = pd.read_csv(\"gps_data_cleaned.csv\")\n",
    "df[\"label\"]= data[\"label\"]\n",
    "df"
   ]
  },
  {
   "cell_type": "code",
   "execution_count": 7,
   "id": "90c245e2",
   "metadata": {},
   "outputs": [
    {
     "name": "stdout",
     "output_type": "stream",
     "text": [
      "(250, 4)\n",
      "<class 'pandas.core.frame.DataFrame'>\n",
      "RangeIndex: 250 entries, 0 to 249\n",
      "Data columns (total 4 columns):\n",
      " #   Column  Non-Null Count  Dtype  \n",
      "---  ------  --------------  -----  \n",
      " 0   x-mag   250 non-null    float64\n",
      " 1   y-mag   250 non-null    float64\n",
      " 2   z-mag   250 non-null    float64\n",
      " 3   label   250 non-null    int64  \n",
      "dtypes: float64(3), int64(1)\n",
      "memory usage: 7.9 KB\n"
     ]
    }
   ],
   "source": [
    "print(df.shape)\n",
    "df.info()"
   ]
  },
  {
   "cell_type": "code",
   "execution_count": 8,
   "id": "d7876f77",
   "metadata": {},
   "outputs": [
    {
     "data": {
      "text/html": [
       "<div>\n",
       "<style scoped>\n",
       "    .dataframe tbody tr th:only-of-type {\n",
       "        vertical-align: middle;\n",
       "    }\n",
       "\n",
       "    .dataframe tbody tr th {\n",
       "        vertical-align: top;\n",
       "    }\n",
       "\n",
       "    .dataframe thead th {\n",
       "        text-align: right;\n",
       "    }\n",
       "</style>\n",
       "<table border=\"1\" class=\"dataframe\">\n",
       "  <thead>\n",
       "    <tr style=\"text-align: right;\">\n",
       "      <th></th>\n",
       "      <th>x-mag</th>\n",
       "      <th>y-mag</th>\n",
       "      <th>z-mag</th>\n",
       "      <th>label</th>\n",
       "    </tr>\n",
       "  </thead>\n",
       "  <tbody>\n",
       "    <tr>\n",
       "      <th>count</th>\n",
       "      <td>250.000000</td>\n",
       "      <td>250.000000</td>\n",
       "      <td>250.000000</td>\n",
       "      <td>250.000000</td>\n",
       "    </tr>\n",
       "    <tr>\n",
       "      <th>mean</th>\n",
       "      <td>-0.250550</td>\n",
       "      <td>18.002992</td>\n",
       "      <td>3.861346</td>\n",
       "      <td>2.156000</td>\n",
       "    </tr>\n",
       "    <tr>\n",
       "      <th>std</th>\n",
       "      <td>20.182485</td>\n",
       "      <td>26.091806</td>\n",
       "      <td>18.369330</td>\n",
       "      <td>0.875632</td>\n",
       "    </tr>\n",
       "    <tr>\n",
       "      <th>min</th>\n",
       "      <td>-49.763628</td>\n",
       "      <td>-58.555186</td>\n",
       "      <td>-48.811308</td>\n",
       "      <td>1.000000</td>\n",
       "    </tr>\n",
       "    <tr>\n",
       "      <th>25%</th>\n",
       "      <td>-12.596683</td>\n",
       "      <td>9.181231</td>\n",
       "      <td>-5.589125</td>\n",
       "      <td>1.000000</td>\n",
       "    </tr>\n",
       "    <tr>\n",
       "      <th>50%</th>\n",
       "      <td>-0.887576</td>\n",
       "      <td>23.206048</td>\n",
       "      <td>1.797029</td>\n",
       "      <td>2.000000</td>\n",
       "    </tr>\n",
       "    <tr>\n",
       "      <th>75%</th>\n",
       "      <td>11.257701</td>\n",
       "      <td>37.905914</td>\n",
       "      <td>12.691802</td>\n",
       "      <td>3.000000</td>\n",
       "    </tr>\n",
       "    <tr>\n",
       "      <th>max</th>\n",
       "      <td>80.176423</td>\n",
       "      <td>68.707603</td>\n",
       "      <td>134.692460</td>\n",
       "      <td>3.000000</td>\n",
       "    </tr>\n",
       "  </tbody>\n",
       "</table>\n",
       "</div>"
      ],
      "text/plain": [
       "            x-mag       y-mag       z-mag       label\n",
       "count  250.000000  250.000000  250.000000  250.000000\n",
       "mean    -0.250550   18.002992    3.861346    2.156000\n",
       "std     20.182485   26.091806   18.369330    0.875632\n",
       "min    -49.763628  -58.555186  -48.811308    1.000000\n",
       "25%    -12.596683    9.181231   -5.589125    1.000000\n",
       "50%     -0.887576   23.206048    1.797029    2.000000\n",
       "75%     11.257701   37.905914   12.691802    3.000000\n",
       "max     80.176423   68.707603  134.692460    3.000000"
      ]
     },
     "execution_count": 8,
     "metadata": {},
     "output_type": "execute_result"
    }
   ],
   "source": [
    "df.describe()"
   ]
  },
  {
   "cell_type": "code",
   "execution_count": 9,
   "id": "7c991b80",
   "metadata": {},
   "outputs": [],
   "source": [
    "X = df[['x-mag', 'y-mag','z-mag']].values"
   ]
  },
  {
   "cell_type": "code",
   "execution_count": 10,
   "id": "1c4e6a35",
   "metadata": {},
   "outputs": [],
   "source": [
    "y =df[[\"label\"]].values"
   ]
  },
  {
   "cell_type": "code",
   "execution_count": 13,
   "id": "415a488c",
   "metadata": {},
   "outputs": [],
   "source": [
    "X_train,X_test,y_train,y_test= train_test_split(X,y,test_size=0.2,random_state=0)"
   ]
  },
  {
   "cell_type": "code",
   "execution_count": 14,
   "id": "4707f359",
   "metadata": {},
   "outputs": [
    {
     "name": "stdout",
     "output_type": "stream",
     "text": [
      "Classification Report:\n",
      "               precision    recall  f1-score   support\n",
      "\n",
      "           1       0.00      0.00      0.00        16\n",
      "           2       0.00      0.00      0.00        15\n",
      "           3       0.37      0.95      0.53        19\n",
      "\n",
      "    accuracy                           0.36        50\n",
      "   macro avg       0.12      0.32      0.18        50\n",
      "weighted avg       0.14      0.36      0.20        50\n",
      "\n"
     ]
    },
    {
     "name": "stderr",
     "output_type": "stream",
     "text": [
      "C:\\Users\\91977\\anaconda3\\Lib\\site-packages\\sklearn\\utils\\validation.py:1184: DataConversionWarning: A column-vector y was passed when a 1d array was expected. Please change the shape of y to (n_samples, ), for example using ravel().\n",
      "  y = column_or_1d(y, warn=True)\n",
      "C:\\Users\\91977\\anaconda3\\Lib\\site-packages\\sklearn\\metrics\\_classification.py:1469: UndefinedMetricWarning: Precision and F-score are ill-defined and being set to 0.0 in labels with no predicted samples. Use `zero_division` parameter to control this behavior.\n",
      "  _warn_prf(average, modifier, msg_start, len(result))\n",
      "C:\\Users\\91977\\anaconda3\\Lib\\site-packages\\sklearn\\metrics\\_classification.py:1469: UndefinedMetricWarning: Precision and F-score are ill-defined and being set to 0.0 in labels with no predicted samples. Use `zero_division` parameter to control this behavior.\n",
      "  _warn_prf(average, modifier, msg_start, len(result))\n",
      "C:\\Users\\91977\\anaconda3\\Lib\\site-packages\\sklearn\\metrics\\_classification.py:1469: UndefinedMetricWarning: Precision and F-score are ill-defined and being set to 0.0 in labels with no predicted samples. Use `zero_division` parameter to control this behavior.\n",
      "  _warn_prf(average, modifier, msg_start, len(result))\n"
     ]
    }
   ],
   "source": [
    "svc = SVC()\n",
    "svc.fit(X_train, y_train)\n",
    "y2_pred = svc.predict(X_test)\n",
    "print(\"Classification Report:\\n\",classification_report(y_test, y2_pred))"
   ]
  },
  {
   "cell_type": "code",
   "execution_count": 15,
   "id": "dcfa08a0",
   "metadata": {},
   "outputs": [
    {
     "data": {
      "text/plain": [
       "0.36"
      ]
     },
     "execution_count": 15,
     "metadata": {},
     "output_type": "execute_result"
    }
   ],
   "source": [
    "accuracy_score(y2_pred,y_test, normalize=True)"
   ]
  },
  {
   "cell_type": "code",
   "execution_count": 16,
   "id": "025b3e2f",
   "metadata": {},
   "outputs": [
    {
     "data": {
      "text/plain": [
       "<Axes: >"
      ]
     },
     "execution_count": 16,
     "metadata": {},
     "output_type": "execute_result"
    },
    {
     "data": {
      "image/png": "[encoded data removed]",
      "text/plain": [
       "<Figure size 640x480 with 2 Axes>"
      ]
     },
     "metadata": {},
     "output_type": "display_data"
    }
   ],
   "source": [
    "import seaborn as sns\n",
    "con=sm.confusion_matrix(y2_pred,y_test)\n",
    "sns.heatmap(con,annot=True,cmap='Purples')"
   ]
  },
  {
   "cell_type": "code",
   "execution_count": 17,
   "id": "8f84f784",
   "metadata": {},
   "outputs": [
    {
     "name": "stdout",
     "output_type": "stream",
     "text": [
      "Classification Report:\n",
      "               precision    recall  f1-score   support\n",
      "\n",
      "           1       0.46      0.38      0.41        16\n",
      "           2       0.58      0.47      0.52        15\n",
      "           3       0.52      0.68      0.59        19\n",
      "\n",
      "    accuracy                           0.52        50\n",
      "   macro avg       0.52      0.51      0.51        50\n",
      "weighted avg       0.52      0.52      0.51        50\n",
      "\n"
     ]
    }
   ],
   "source": [
    "dtc = DecisionTreeClassifier()\n",
    "dtc.fit(X_train, y_train)\n",
    "y3_pred = dtc.predict(X_test)\n",
    "print(\"Classification Report:\\n\",classification_report(y_test, y3_pred))\n"
   ]
  },
  {
   "cell_type": "code",
   "execution_count": 18,
   "id": "3a5bff8f",
   "metadata": {},
   "outputs": [
    {
     "data": {
      "text/plain": [
       "0.52"
      ]
     },
     "execution_count": 18,
     "metadata": {},
     "output_type": "execute_result"
    }
   ],
   "source": [
    "accuracy_score(y3_pred,y_test, normalize=True)"
   ]
  },
  {
   "cell_type": "code",
   "execution_count": 19,
   "id": "8018b88e",
   "metadata": {},
   "outputs": [
    {
     "data": {
      "text/plain": [
       "<Axes: >"
      ]
     },
     "execution_count": 19,
     "metadata": {},
     "output_type": "execute_result"
    },
    {
     "data": {
      "image/png": "[encoded data removed]",
      "text/plain": [
       "<Figure size 640x480 with 2 Axes>"
      ]
     },
     "metadata": {},
     "output_type": "display_data"
    }
   ],
   "source": [
    "con=sm.confusion_matrix(y3_pred,y_test)\n",
    "sns.heatmap(con,annot=True,cmap='Purples')"
   ]
  },
  {
   "cell_type": "code",
   "execution_count": 20,
   "id": "2a8b0e1d",
   "metadata": {},
   "outputs": [
    {
     "name": "stderr",
     "output_type": "stream",
     "text": [
      "C:\\Users\\91977\\anaconda3\\Lib\\site-packages\\sklearn\\base.py:1151: DataConversionWarning: A column-vector y was passed when a 1d array was expected. Please change the shape of y to (n_samples,), for example using ravel().\n",
      "  return fit_method(estimator, *args, **kwargs)\n"
     ]
    }
   ],
   "source": [
    "import time\n",
    "start_rfc = time.time()\n",
    "rfc = RandomForestClassifier(random_state=0, n_jobs=-1, max_depth=5, n_estimators=100, oob_score=True)\n",
    "rfc.fit(X_train, y_train)\n",
    "end_rfc = time.time()\n",
    "final_rfc = end_rfc - start_rfc\n",
    "final_rfc = round(final_rfc,3)\n",
    "y4_pred = rfc.predict(X_test)"
   ]
  },
  {
   "cell_type": "code",
   "execution_count": 21,
   "id": "d473c997",
   "metadata": {},
   "outputs": [
    {
     "name": "stdout",
     "output_type": "stream",
     "text": [
      "Computation time                    : 0.259Sec\n",
      "Classification Report:\n",
      "               precision    recall  f1-score   support\n",
      "\n",
      "           1       0.12      0.06      0.08        16\n",
      "           2       0.00      0.00      0.00        15\n",
      "           3       0.38      0.84      0.52        19\n",
      "\n",
      "    accuracy                           0.34        50\n",
      "   macro avg       0.17      0.30      0.20        50\n",
      "weighted avg       0.18      0.34      0.23        50\n",
      "\n"
     ]
    },
    {
     "name": "stderr",
     "output_type": "stream",
     "text": [
      "C:\\Users\\91977\\anaconda3\\Lib\\site-packages\\sklearn\\metrics\\_classification.py:1469: UndefinedMetricWarning: Precision and F-score are ill-defined and being set to 0.0 in labels with no predicted samples. Use `zero_division` parameter to control this behavior.\n",
      "  _warn_prf(average, modifier, msg_start, len(result))\n",
      "C:\\Users\\91977\\anaconda3\\Lib\\site-packages\\sklearn\\metrics\\_classification.py:1469: UndefinedMetricWarning: Precision and F-score are ill-defined and being set to 0.0 in labels with no predicted samples. Use `zero_division` parameter to control this behavior.\n",
      "  _warn_prf(average, modifier, msg_start, len(result))\n",
      "C:\\Users\\91977\\anaconda3\\Lib\\site-packages\\sklearn\\metrics\\_classification.py:1469: UndefinedMetricWarning: Precision and F-score are ill-defined and being set to 0.0 in labels with no predicted samples. Use `zero_division` parameter to control this behavior.\n",
      "  _warn_prf(average, modifier, msg_start, len(result))\n"
     ]
    }
   ],
   "source": [
    "print(\"Computation time                    : {}Sec\".format(final_rfc))\n",
    "print(\"Classification Report:\\n\",classification_report(y_test, y4_pred))"
   ]
  },
  {
   "cell_type": "code",
   "execution_count": 22,
   "id": "58cc97c3",
   "metadata": {},
   "outputs": [
    {
     "data": {
      "text/plain": [
       "0.34"
      ]
     },
     "execution_count": 22,
     "metadata": {},
     "output_type": "execute_result"
    }
   ],
   "source": [
    "accuracy_score(y4_pred,y_test, normalize=True)"
   ]
  },
  {
   "cell_type": "code",
   "execution_count": 23,
   "id": "6b15946f",
   "metadata": {},
   "outputs": [
    {
     "data": {
      "text/plain": [
       "<Axes: >"
      ]
     },
     "execution_count": 23,
     "metadata": {},
     "output_type": "execute_result"
    },
    {
     "data": {
      "image/png": "[encoded data removed]",
      "text/plain": [
       "<Figure size 640x480 with 2 Axes>"
      ]
     },
     "metadata": {},
     "output_type": "display_data"
    }
   ],
   "source": [
    "con=sm.confusion_matrix(y4_pred,y_test)\n",
    "sns.heatmap(con,annot=True,cmap='Purples')"
   ]
  },
  {
   "cell_type": "code",
   "execution_count": 24,
   "id": "c8754fd3",
   "metadata": {},
   "outputs": [
    {
     "name": "stdout",
     "output_type": "stream",
     "text": [
      "Classification Report:\n",
      "               precision    recall  f1-score   support\n",
      "\n",
      "           1       0.00      0.00      0.00        16\n",
      "           2       0.00      0.00      0.00        15\n",
      "           3       0.35      0.79      0.48        19\n",
      "\n",
      "    accuracy                           0.30        50\n",
      "   macro avg       0.12      0.26      0.16        50\n",
      "weighted avg       0.13      0.30      0.18        50\n",
      "\n"
     ]
    },
    {
     "name": "stderr",
     "output_type": "stream",
     "text": [
      "C:\\Users\\91977\\anaconda3\\Lib\\site-packages\\sklearn\\utils\\validation.py:1184: DataConversionWarning: A column-vector y was passed when a 1d array was expected. Please change the shape of y to (n_samples, ), for example using ravel().\n",
      "  y = column_or_1d(y, warn=True)\n"
     ]
    }
   ],
   "source": [
    "nbmod=GaussianNB()\n",
    "nbmod.fit(X_train,y_train)\n",
    "y5_pred = nbmod.predict(X_test)\n",
    "print(\"Classification Report:\\n\",classification_report(y_test, y5_pred))"
   ]
  },
  {
   "cell_type": "code",
   "execution_count": 25,
   "id": "773892c9",
   "metadata": {},
   "outputs": [
    {
     "data": {
      "text/plain": [
       "0.3"
      ]
     },
     "execution_count": 25,
     "metadata": {},
     "output_type": "execute_result"
    }
   ],
   "source": [
    "accuracy_score(y5_pred,y_test, normalize=True)"
   ]
  },
  {
   "cell_type": "code",
   "execution_count": 26,
   "id": "0a324d3f",
   "metadata": {},
   "outputs": [
    {
     "data": {
      "text/plain": [
       "<Axes: >"
      ]
     },
     "execution_count": 26,
     "metadata": {},
     "output_type": "execute_result"
    },
    {
     "data": {
      "image/png": "[encoded data removed]",
      "text/plain": [
       "<Figure size 640x480 with 2 Axes>"
      ]
     },
     "metadata": {},
     "output_type": "display_data"
    }
   ],
   "source": [
    "con=sm.confusion_matrix(y5_pred,y_test)\n",
    "sns.heatmap(con,annot=True,cmap='Purples')"
   ]
  },
  {
   "cell_type": "code",
   "execution_count": 27,
   "id": "2c5ddf62",
   "metadata": {},
   "outputs": [
    {
     "name": "stdout",
     "output_type": "stream",
     "text": [
      "Classification Report:\n",
      "               precision    recall  f1-score   support\n",
      "\n",
      "           1       0.25      0.31      0.28        16\n",
      "           2       0.40      0.13      0.20        15\n",
      "           3       0.44      0.58      0.50        19\n",
      "\n",
      "    accuracy                           0.36        50\n",
      "   macro avg       0.36      0.34      0.33        50\n",
      "weighted avg       0.37      0.36      0.34        50\n",
      "\n"
     ]
    },
    {
     "name": "stderr",
     "output_type": "stream",
     "text": [
      "C:\\Users\\91977\\anaconda3\\Lib\\site-packages\\sklearn\\neighbors\\_classification.py:228: DataConversionWarning: A column-vector y was passed when a 1d array was expected. Please change the shape of y to (n_samples,), for example using ravel().\n",
      "  return self._fit(X, y)\n"
     ]
    }
   ],
   "source": [
    "knn = KNeighborsClassifier(n_neighbors = 3, metric = 'minkowski', p = 2)\n",
    "knn.fit(X_train, y_train)\n",
    "y6_pred = knn.predict(X_test)\n",
    "print(\"Classification Report:\\n\",classification_report(y_test, y6_pred))"
   ]
  },
  {
   "cell_type": "code",
   "execution_count": 28,
   "id": "303954ad",
   "metadata": {},
   "outputs": [
    {
     "data": {
      "text/plain": [
       "0.36"
      ]
     },
     "execution_count": 28,
     "metadata": {},
     "output_type": "execute_result"
    }
   ],
   "source": [
    "accuracy_score(y6_pred,y_test, normalize=True)"
   ]
  },
  {
   "cell_type": "code",
   "execution_count": 29,
   "id": "ff6229c4",
   "metadata": {},
   "outputs": [
    {
     "data": {
      "text/plain": [
       "<Axes: >"
      ]
     },
     "execution_count": 29,
     "metadata": {},
     "output_type": "execute_result"
    },
    {
     "data": {
      "image/png": "[encoded data removed]",
      "text/plain": [
       "<Figure size 640x480 with 2 Axes>"
      ]
     },
     "metadata": {},
     "output_type": "display_data"
    }
   ],
   "source": [
    "con=sm.confusion_matrix(y6_pred,y_test)\n",
    "sns.heatmap(con,annot=True,cmap='Purples')"
   ]
  },
  {
   "cell_type": "code",
   "execution_count": null,
   "id": "4b5a622f",
   "metadata": {},
   "outputs": [],
   "source": []
  }
 ],
 "metadata": {
  "kernelspec": {
   "display_name": "Python 3 (ipykernel)",
   "language": "python",
   "name": "python3"
  },
  "language_info": {
   "codemirror_mode": {
    "name": "ipython",
    "version": 3
   },
   "file_extension": ".py",
   "mimetype": "text/x-python",
   "name": "python",
   "nbconvert_exporter": "python",
   "pygments_lexer": "ipython3",
   "version": "3.11.5"
  }
 },
 "nbformat": 4,
 "nbformat_minor": 5
}
