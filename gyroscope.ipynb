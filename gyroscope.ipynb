{
 "cells": [
  {
   "cell_type": "code",
   "execution_count": 1,
   "id": "ec0ef8c4",
   "metadata": {},
   "outputs": [
    {
     "name": "stdout",
     "output_type": "stream",
     "text": [
      "                                              x-gyro  \\\n",
      "0                                                 []   \n",
      "1                                                 []   \n",
      "2  [-0.5705, -0.5705, -0.5705, -0.5705, -0.5645, ...   \n",
      "3  [2.5676, 2.5676, 1.9738, 1.9738, 1.8028, 1.802...   \n",
      "4                                                 []   \n",
      "\n",
      "                                              y-gyro  \\\n",
      "0                                                 []   \n",
      "1                                                 []   \n",
      "2  [0.9889, 0.9889, 0.9889, 0.9889, 0.9773, 0.977...   \n",
      "3  [-1.0166, -1.0166, 0.078, 0.078, -0.9409, -0.9...   \n",
      "4                                                 []   \n",
      "\n",
      "                                              z-gyro  label  \n",
      "0                                                 []      1  \n",
      "1                                                 []      1  \n",
      "2  [1.3743, 1.3743, 1.3743, 1.3743, 1.392, 1.392,...      1  \n",
      "3  [-0.8944, -0.8944, -0.7271, -0.7271, -0.3898, ...      1  \n",
      "4                                                 []      1  \n"
     ]
    }
   ],
   "source": [
    "import pandas as pd\n",
    "import numpy as np\n",
    "\n",
    "# Load the dataset\n",
    "file_path = \"gyroscope_labeled.csv\"  # Update with actual path\n",
    "df = pd.read_csv(file_path)\n",
    "\n",
    "# Display column names and first few rows\n",
    "print(df.head())\n"
   ]
  },
  {
   "cell_type": "code",
   "execution_count": 2,
   "id": "c039afda",
   "metadata": {},
   "outputs": [
    {
     "name": "stdout",
     "output_type": "stream",
     "text": [
      "Data cleaning complete. Nulls and blanks in numeric columns are filled with the column mean.\n"
     ]
    }
   ],
   "source": [
    "import pandas as pd\n",
    "import numpy as np\n",
    "\n",
    "# Load your dataset (update the path to your CSV file)\n",
    "df = pd.read_csv(\"gyroscope_labeled.csv\")\n",
    "\n",
    "# Replace blank strings (or strings with only spaces) with NaN\n",
    "df = df.replace(r'^\\s*$', np.nan, regex=True)\n",
    "\n",
    "# For numeric columns: fill NaN with the mean of the column\n",
    "numeric_cols = df.select_dtypes(include=[np.number]).columns\n",
    "for col in numeric_cols:\n",
    "    df[col].fillna(df[col].mean(), inplace=True)\n",
    "\n",
    "# (Optional) For non-numeric columns, you might choose to fill NaN with the most frequent value (mode)\n",
    "non_numeric_cols = df.select_dtypes(exclude=[np.number]).columns\n",
    "for col in non_numeric_cols:\n",
    "    if df[col].isnull().any():\n",
    "        df[col].fillna(df[col].mode()[0], inplace=True)\n",
    "\n",
    "# Save the cleaned dataset to a new CSV file if desired\n",
    "df.to_csv(\"your_dataset_cleaned.csv\", index=False)\n",
    "\n",
    "print(\"Data cleaning complete. Nulls and blanks in numeric columns are filled with the column mean.\")\n",
    "\n"
   ]
  },
  {
   "cell_type": "code",
   "execution_count": 3,
   "id": "20544e34",
   "metadata": {},
   "outputs": [
    {
     "data": {
      "text/html": [
       "<div>\n",
       "<style scoped>\n",
       "    .dataframe tbody tr th:only-of-type {\n",
       "        vertical-align: middle;\n",
       "    }\n",
       "\n",
       "    .dataframe tbody tr th {\n",
       "        vertical-align: top;\n",
       "    }\n",
       "\n",
       "    .dataframe thead th {\n",
       "        text-align: right;\n",
       "    }\n",
       "</style>\n",
       "<table border=\"1\" class=\"dataframe\">\n",
       "  <thead>\n",
       "    <tr style=\"text-align: right;\">\n",
       "      <th></th>\n",
       "      <th>x-gyro</th>\n",
       "      <th>y-gyro</th>\n",
       "      <th>z-gyro</th>\n",
       "      <th>label</th>\n",
       "    </tr>\n",
       "  </thead>\n",
       "  <tbody>\n",
       "    <tr>\n",
       "      <th>0</th>\n",
       "      <td>[]</td>\n",
       "      <td>[]</td>\n",
       "      <td>[]</td>\n",
       "      <td>1</td>\n",
       "    </tr>\n",
       "    <tr>\n",
       "      <th>1</th>\n",
       "      <td>[]</td>\n",
       "      <td>[]</td>\n",
       "      <td>[]</td>\n",
       "      <td>1</td>\n",
       "    </tr>\n",
       "    <tr>\n",
       "      <th>2</th>\n",
       "      <td>[-0.5705, -0.5705, -0.5705, -0.5705, -0.5645, ...</td>\n",
       "      <td>[0.9889, 0.9889, 0.9889, 0.9889, 0.9773, 0.977...</td>\n",
       "      <td>[1.3743, 1.3743, 1.3743, 1.3743, 1.392, 1.392,...</td>\n",
       "      <td>1</td>\n",
       "    </tr>\n",
       "    <tr>\n",
       "      <th>3</th>\n",
       "      <td>[2.5676, 2.5676, 1.9738, 1.9738, 1.8028, 1.802...</td>\n",
       "      <td>[-1.0166, -1.0166, 0.078, 0.078, -0.9409, -0.9...</td>\n",
       "      <td>[-0.8944, -0.8944, -0.7271, -0.7271, -0.3898, ...</td>\n",
       "      <td>1</td>\n",
       "    </tr>\n",
       "    <tr>\n",
       "      <th>4</th>\n",
       "      <td>[]</td>\n",
       "      <td>[]</td>\n",
       "      <td>[]</td>\n",
       "      <td>1</td>\n",
       "    </tr>\n",
       "    <tr>\n",
       "      <th>...</th>\n",
       "      <td>...</td>\n",
       "      <td>...</td>\n",
       "      <td>...</td>\n",
       "      <td>...</td>\n",
       "    </tr>\n",
       "    <tr>\n",
       "      <th>245</th>\n",
       "      <td>[0.4013, 0.6298, 0.0715, -0.6561, -0.5675, -0....</td>\n",
       "      <td>[-1.3073, -1.3732, -1.4801, 0.7019, 2.7086, 2....</td>\n",
       "      <td>[0.3818, 0.3115, 0.0104, -0.4325, -0.711, -0.6...</td>\n",
       "      <td>3</td>\n",
       "    </tr>\n",
       "    <tr>\n",
       "      <th>246</th>\n",
       "      <td>[-0.4649, -0.2658, -0.2658, -0.0398, -0.0398, ...</td>\n",
       "      <td>[0.8274, 0.3484, 0.3484, -0.0559, -0.0559, -0....</td>\n",
       "      <td>[-0.4849, -0.4544, -0.4544, -0.3689, -0.3689, ...</td>\n",
       "      <td>3</td>\n",
       "    </tr>\n",
       "    <tr>\n",
       "      <th>247</th>\n",
       "      <td>[1.0995, 1.0995, 1.0995, 1.0995, 0.1605, 0.160...</td>\n",
       "      <td>[-0.6255, -0.6255, -0.6255, -0.6255, -0.2639, ...</td>\n",
       "      <td>[0.5538, 0.5538, 0.5538, 0.5538, -0.0723, -0.0...</td>\n",
       "      <td>3</td>\n",
       "    </tr>\n",
       "    <tr>\n",
       "      <th>248</th>\n",
       "      <td>[]</td>\n",
       "      <td>[]</td>\n",
       "      <td>[]</td>\n",
       "      <td>3</td>\n",
       "    </tr>\n",
       "    <tr>\n",
       "      <th>249</th>\n",
       "      <td>[-0.0239, -0.0373, -0.0373, -0.0495, -0.0495, ...</td>\n",
       "      <td>[0.0589, 0.0271, 0.0271, 0.0174, 0.0174, 0.098...</td>\n",
       "      <td>[0.0465, 0.0282, 0.0282, 0.027, 0.027, -0.0707...</td>\n",
       "      <td>3</td>\n",
       "    </tr>\n",
       "  </tbody>\n",
       "</table>\n",
       "<p>250 rows × 4 columns</p>\n",
       "</div>"
      ],
      "text/plain": [
       "                                                x-gyro  \\\n",
       "0                                                   []   \n",
       "1                                                   []   \n",
       "2    [-0.5705, -0.5705, -0.5705, -0.5705, -0.5645, ...   \n",
       "3    [2.5676, 2.5676, 1.9738, 1.9738, 1.8028, 1.802...   \n",
       "4                                                   []   \n",
       "..                                                 ...   \n",
       "245  [0.4013, 0.6298, 0.0715, -0.6561, -0.5675, -0....   \n",
       "246  [-0.4649, -0.2658, -0.2658, -0.0398, -0.0398, ...   \n",
       "247  [1.0995, 1.0995, 1.0995, 1.0995, 0.1605, 0.160...   \n",
       "248                                                 []   \n",
       "249  [-0.0239, -0.0373, -0.0373, -0.0495, -0.0495, ...   \n",
       "\n",
       "                                                y-gyro  \\\n",
       "0                                                   []   \n",
       "1                                                   []   \n",
       "2    [0.9889, 0.9889, 0.9889, 0.9889, 0.9773, 0.977...   \n",
       "3    [-1.0166, -1.0166, 0.078, 0.078, -0.9409, -0.9...   \n",
       "4                                                   []   \n",
       "..                                                 ...   \n",
       "245  [-1.3073, -1.3732, -1.4801, 0.7019, 2.7086, 2....   \n",
       "246  [0.8274, 0.3484, 0.3484, -0.0559, -0.0559, -0....   \n",
       "247  [-0.6255, -0.6255, -0.6255, -0.6255, -0.2639, ...   \n",
       "248                                                 []   \n",
       "249  [0.0589, 0.0271, 0.0271, 0.0174, 0.0174, 0.098...   \n",
       "\n",
       "                                                z-gyro  label  \n",
       "0                                                   []      1  \n",
       "1                                                   []      1  \n",
       "2    [1.3743, 1.3743, 1.3743, 1.3743, 1.392, 1.392,...      1  \n",
       "3    [-0.8944, -0.8944, -0.7271, -0.7271, -0.3898, ...      1  \n",
       "4                                                   []      1  \n",
       "..                                                 ...    ...  \n",
       "245  [0.3818, 0.3115, 0.0104, -0.4325, -0.711, -0.6...      3  \n",
       "246  [-0.4849, -0.4544, -0.4544, -0.3689, -0.3689, ...      3  \n",
       "247  [0.5538, 0.5538, 0.5538, 0.5538, -0.0723, -0.0...      3  \n",
       "248                                                 []      3  \n",
       "249  [0.0465, 0.0282, 0.0282, 0.027, 0.027, -0.0707...      3  \n",
       "\n",
       "[250 rows x 4 columns]"
      ]
     },
     "execution_count": 3,
     "metadata": {},
     "output_type": "execute_result"
    }
   ],
   "source": [
    "df = pd.read_csv(\"your_dataset_cleaned.csv\")\n",
    "df"
   ]
  },
  {
   "cell_type": "code",
   "execution_count": 4,
   "id": "7c68571c",
   "metadata": {},
   "outputs": [
    {
     "name": "stdout",
     "output_type": "stream",
     "text": [
      "Gyroscope dataset cleaned successfully. Blank list values have been replaced with the computed mean values.\n"
     ]
    }
   ],
   "source": [
    "import pandas as pd\n",
    "import numpy as np\n",
    "import ast\n",
    "import re\n",
    "\n",
    "# Load the gyroscope dataset (update the path as needed)\n",
    "df = pd.read_csv(\"gyroscope_labeled.csv\")\n",
    "\n",
    "# List of gyroscope columns to update\n",
    "gyro_columns = [\"x-gyro\", \"y-gyro\", \"z-gyro\"]\n",
    "\n",
    "def compute_list_mean(cell):\n",
    "    \"\"\"\n",
    "    Convert a string representation of a list to an actual list,\n",
    "    then convert each element to float and compute the mean.\n",
    "    If the cell represents an empty list or conversion fails, return np.nan.\n",
    "    \"\"\"\n",
    "    # If the cell is missing, return NaN\n",
    "    if pd.isnull(cell):\n",
    "        return np.nan\n",
    "    \n",
    "    # If the cell is a string, remove whitespace and check if it equals \"[]\"\n",
    "    if isinstance(cell, str):\n",
    "        if re.sub(r\"\\s+\", \"\", cell) == \"[]\":\n",
    "            return np.nan\n",
    "\n",
    "    try:\n",
    "        # Convert the cell (if string) to an actual list\n",
    "        lst = ast.literal_eval(cell)\n",
    "    except Exception:\n",
    "        return np.nan\n",
    "\n",
    "    # If the list is empty, return NaN\n",
    "    if not lst:\n",
    "        return np.nan\n",
    "\n",
    "    try:\n",
    "        # Convert each element in the list to a float\n",
    "        float_lst = [float(x) for x in lst]\n",
    "    except Exception:\n",
    "        return np.nan\n",
    "\n",
    "    return np.mean(float_lst)\n",
    "\n",
    "# Process each gyroscope column and update the original column\n",
    "for col in gyro_columns:\n",
    "    # Compute the mean for each row in the column\n",
    "    computed_means = df[col].apply(compute_list_mean)\n",
    "    \n",
    "    # Compute the overall mean from the computed values (ignoring NaNs)\n",
    "    overall_mean = computed_means.mean()\n",
    "    \n",
    "    # Replace any NaN (from empty lists or conversion errors) with the overall mean\n",
    "    computed_means.fillna(overall_mean, inplace=True)\n",
    "    \n",
    "    # Update the original column with the computed means\n",
    "    df[col] = computed_means\n",
    "\n",
    "# Save the updated dataset to a new CSV file\n",
    "output_path = \"gyroscope_data_cleaned.csv\"\n",
    "df.to_csv(output_path, index=False)\n",
    "\n",
    "print(\"Gyroscope dataset cleaned successfully. Blank list values have been replaced with the computed mean values.\")\n"
   ]
  },
  {
   "cell_type": "code",
   "execution_count": 29,
   "id": "b9659373",
   "metadata": {},
   "outputs": [],
   "source": [
    "from sklearn.preprocessing import StandardScaler\n",
    "from sklearn.model_selection import train_test_split\n",
    "from sklearn.metrics import classification_report\n",
    "from sklearn.metrics import accuracy_score\n",
    "from sklearn.linear_model import LogisticRegression\n",
    "from sklearn.neighbors import KNeighborsClassifier\n",
    "from sklearn.tree import DecisionTreeClassifier\n",
    "from sklearn.ensemble import RandomForestClassifier\n",
    "from sklearn.naive_bayes import GaussianNB\n",
    "from sklearn.svm import SVC\n",
    "import sklearn.metrics as sm\n",
    "import matplotlib.pyplot as plt"
   ]
  },
  {
   "cell_type": "code",
   "execution_count": 30,
   "id": "a4bacd79",
   "metadata": {},
   "outputs": [
    {
     "data": {
      "text/html": [
       "<div>\n",
       "<style scoped>\n",
       "    .dataframe tbody tr th:only-of-type {\n",
       "        vertical-align: middle;\n",
       "    }\n",
       "\n",
       "    .dataframe tbody tr th {\n",
       "        vertical-align: top;\n",
       "    }\n",
       "\n",
       "    .dataframe thead th {\n",
       "        text-align: right;\n",
       "    }\n",
       "</style>\n",
       "<table border=\"1\" class=\"dataframe\">\n",
       "  <thead>\n",
       "    <tr style=\"text-align: right;\">\n",
       "      <th></th>\n",
       "      <th>x-gyro</th>\n",
       "      <th>y-gyro</th>\n",
       "      <th>z-gyro</th>\n",
       "      <th>label</th>\n",
       "    </tr>\n",
       "  </thead>\n",
       "  <tbody>\n",
       "    <tr>\n",
       "      <th>0</th>\n",
       "      <td>-0.001922</td>\n",
       "      <td>-0.002145</td>\n",
       "      <td>0.017354</td>\n",
       "      <td>1</td>\n",
       "    </tr>\n",
       "    <tr>\n",
       "      <th>1</th>\n",
       "      <td>-0.001922</td>\n",
       "      <td>-0.002145</td>\n",
       "      <td>0.017354</td>\n",
       "      <td>1</td>\n",
       "    </tr>\n",
       "    <tr>\n",
       "      <th>2</th>\n",
       "      <td>0.000945</td>\n",
       "      <td>0.028838</td>\n",
       "      <td>0.014668</td>\n",
       "      <td>1</td>\n",
       "    </tr>\n",
       "    <tr>\n",
       "      <th>3</th>\n",
       "      <td>0.000921</td>\n",
       "      <td>0.013366</td>\n",
       "      <td>-0.028399</td>\n",
       "      <td>1</td>\n",
       "    </tr>\n",
       "    <tr>\n",
       "      <th>4</th>\n",
       "      <td>-0.001922</td>\n",
       "      <td>-0.002145</td>\n",
       "      <td>0.017354</td>\n",
       "      <td>1</td>\n",
       "    </tr>\n",
       "    <tr>\n",
       "      <th>...</th>\n",
       "      <td>...</td>\n",
       "      <td>...</td>\n",
       "      <td>...</td>\n",
       "      <td>...</td>\n",
       "    </tr>\n",
       "    <tr>\n",
       "      <th>245</th>\n",
       "      <td>0.003324</td>\n",
       "      <td>0.016959</td>\n",
       "      <td>-0.012814</td>\n",
       "      <td>3</td>\n",
       "    </tr>\n",
       "    <tr>\n",
       "      <th>246</th>\n",
       "      <td>-0.002224</td>\n",
       "      <td>-0.050562</td>\n",
       "      <td>-0.004653</td>\n",
       "      <td>3</td>\n",
       "    </tr>\n",
       "    <tr>\n",
       "      <th>247</th>\n",
       "      <td>0.014010</td>\n",
       "      <td>0.038896</td>\n",
       "      <td>0.007515</td>\n",
       "      <td>3</td>\n",
       "    </tr>\n",
       "    <tr>\n",
       "      <th>248</th>\n",
       "      <td>-0.001922</td>\n",
       "      <td>-0.002145</td>\n",
       "      <td>0.017354</td>\n",
       "      <td>3</td>\n",
       "    </tr>\n",
       "    <tr>\n",
       "      <th>249</th>\n",
       "      <td>-0.001632</td>\n",
       "      <td>0.029558</td>\n",
       "      <td>0.010252</td>\n",
       "      <td>3</td>\n",
       "    </tr>\n",
       "  </tbody>\n",
       "</table>\n",
       "<p>250 rows × 4 columns</p>\n",
       "</div>"
      ],
      "text/plain": [
       "       x-gyro    y-gyro    z-gyro  label\n",
       "0   -0.001922 -0.002145  0.017354      1\n",
       "1   -0.001922 -0.002145  0.017354      1\n",
       "2    0.000945  0.028838  0.014668      1\n",
       "3    0.000921  0.013366 -0.028399      1\n",
       "4   -0.001922 -0.002145  0.017354      1\n",
       "..        ...       ...       ...    ...\n",
       "245  0.003324  0.016959 -0.012814      3\n",
       "246 -0.002224 -0.050562 -0.004653      3\n",
       "247  0.014010  0.038896  0.007515      3\n",
       "248 -0.001922 -0.002145  0.017354      3\n",
       "249 -0.001632  0.029558  0.010252      3\n",
       "\n",
       "[250 rows x 4 columns]"
      ]
     },
     "execution_count": 30,
     "metadata": {},
     "output_type": "execute_result"
    }
   ],
   "source": [
    "df = pd.read_csv(\"gyroscope_data_cleaned.csv\")\n",
    "df\n"
   ]
  },
  {
   "cell_type": "code",
   "execution_count": 31,
   "id": "84952ed9",
   "metadata": {},
   "outputs": [
    {
     "name": "stdout",
     "output_type": "stream",
     "text": [
      "(250, 4)\n",
      "<class 'pandas.core.frame.DataFrame'>\n",
      "RangeIndex: 250 entries, 0 to 249\n",
      "Data columns (total 4 columns):\n",
      " #   Column  Non-Null Count  Dtype  \n",
      "---  ------  --------------  -----  \n",
      " 0   x-gyro  250 non-null    float64\n",
      " 1   y-gyro  250 non-null    float64\n",
      " 2   z-gyro  250 non-null    float64\n",
      " 3   label   250 non-null    int64  \n",
      "dtypes: float64(3), int64(1)\n",
      "memory usage: 7.9 KB\n"
     ]
    }
   ],
   "source": [
    "print(df.shape)\n",
    "df.info()"
   ]
  },
  {
   "cell_type": "code",
   "execution_count": 32,
   "id": "8fd8bf20",
   "metadata": {},
   "outputs": [
    {
     "data": {
      "text/html": [
       "<div>\n",
       "<style scoped>\n",
       "    .dataframe tbody tr th:only-of-type {\n",
       "        vertical-align: middle;\n",
       "    }\n",
       "\n",
       "    .dataframe tbody tr th {\n",
       "        vertical-align: top;\n",
       "    }\n",
       "\n",
       "    .dataframe thead th {\n",
       "        text-align: right;\n",
       "    }\n",
       "</style>\n",
       "<table border=\"1\" class=\"dataframe\">\n",
       "  <thead>\n",
       "    <tr style=\"text-align: right;\">\n",
       "      <th></th>\n",
       "      <th>x-gyro</th>\n",
       "      <th>y-gyro</th>\n",
       "      <th>z-gyro</th>\n",
       "      <th>label</th>\n",
       "    </tr>\n",
       "  </thead>\n",
       "  <tbody>\n",
       "    <tr>\n",
       "      <th>count</th>\n",
       "      <td>250.000000</td>\n",
       "      <td>250.000000</td>\n",
       "      <td>250.000000</td>\n",
       "      <td>250.000000</td>\n",
       "    </tr>\n",
       "    <tr>\n",
       "      <th>mean</th>\n",
       "      <td>-0.001922</td>\n",
       "      <td>-0.002145</td>\n",
       "      <td>0.017354</td>\n",
       "      <td>2.156000</td>\n",
       "    </tr>\n",
       "    <tr>\n",
       "      <th>std</th>\n",
       "      <td>0.010835</td>\n",
       "      <td>0.021593</td>\n",
       "      <td>0.019090</td>\n",
       "      <td>0.875632</td>\n",
       "    </tr>\n",
       "    <tr>\n",
       "      <th>min</th>\n",
       "      <td>-0.078681</td>\n",
       "      <td>-0.094355</td>\n",
       "      <td>-0.055556</td>\n",
       "      <td>1.000000</td>\n",
       "    </tr>\n",
       "    <tr>\n",
       "      <th>25%</th>\n",
       "      <td>-0.001922</td>\n",
       "      <td>-0.002145</td>\n",
       "      <td>0.015659</td>\n",
       "      <td>1.000000</td>\n",
       "    </tr>\n",
       "    <tr>\n",
       "      <th>50%</th>\n",
       "      <td>-0.001922</td>\n",
       "      <td>-0.002145</td>\n",
       "      <td>0.017354</td>\n",
       "      <td>2.000000</td>\n",
       "    </tr>\n",
       "    <tr>\n",
       "      <th>75%</th>\n",
       "      <td>-0.001922</td>\n",
       "      <td>-0.002145</td>\n",
       "      <td>0.017354</td>\n",
       "      <td>3.000000</td>\n",
       "    </tr>\n",
       "    <tr>\n",
       "      <th>max</th>\n",
       "      <td>0.039098</td>\n",
       "      <td>0.087653</td>\n",
       "      <td>0.137089</td>\n",
       "      <td>3.000000</td>\n",
       "    </tr>\n",
       "  </tbody>\n",
       "</table>\n",
       "</div>"
      ],
      "text/plain": [
       "           x-gyro      y-gyro      z-gyro       label\n",
       "count  250.000000  250.000000  250.000000  250.000000\n",
       "mean    -0.001922   -0.002145    0.017354    2.156000\n",
       "std      0.010835    0.021593    0.019090    0.875632\n",
       "min     -0.078681   -0.094355   -0.055556    1.000000\n",
       "25%     -0.001922   -0.002145    0.015659    1.000000\n",
       "50%     -0.001922   -0.002145    0.017354    2.000000\n",
       "75%     -0.001922   -0.002145    0.017354    3.000000\n",
       "max      0.039098    0.087653    0.137089    3.000000"
      ]
     },
     "execution_count": 32,
     "metadata": {},
     "output_type": "execute_result"
    }
   ],
   "source": [
    "df.describe()"
   ]
  },
  {
   "cell_type": "code",
   "execution_count": 33,
   "id": "f422b496",
   "metadata": {},
   "outputs": [],
   "source": [
    "X = df[['x-gyro', 'y-gyro','z-gyro']].values"
   ]
  },
  {
   "cell_type": "code",
   "execution_count": 34,
   "id": "e5eb4ffb",
   "metadata": {},
   "outputs": [],
   "source": [
    "y =df[[\"label\"]].values"
   ]
  },
  {
   "cell_type": "code",
   "execution_count": 35,
   "id": "ed7dbeb9",
   "metadata": {},
   "outputs": [],
   "source": [
    "X_train,X_test,y_train,y_test= train_test_split(X,y,test_size=0.2,random_state=0)"
   ]
  },
  {
   "cell_type": "code",
   "execution_count": 36,
   "id": "7b886f3a",
   "metadata": {
    "scrolled": true
   },
   "outputs": [
    {
     "name": "stdout",
     "output_type": "stream",
     "text": [
      "Classification Report:\n",
      "               precision    recall  f1-score   support\n",
      "\n",
      "           1       0.00      0.00      0.00        16\n",
      "           2       0.00      0.00      0.00        15\n",
      "           3       0.37      0.95      0.53        19\n",
      "\n",
      "    accuracy                           0.36        50\n",
      "   macro avg       0.12      0.32      0.18        50\n",
      "weighted avg       0.14      0.36      0.20        50\n",
      "\n"
     ]
    },
    {
     "name": "stderr",
     "output_type": "stream",
     "text": [
      "C:\\Users\\91977\\anaconda3\\Lib\\site-packages\\sklearn\\utils\\validation.py:1184: DataConversionWarning: A column-vector y was passed when a 1d array was expected. Please change the shape of y to (n_samples, ), for example using ravel().\n",
      "  y = column_or_1d(y, warn=True)\n",
      "C:\\Users\\91977\\anaconda3\\Lib\\site-packages\\sklearn\\metrics\\_classification.py:1469: UndefinedMetricWarning: Precision and F-score are ill-defined and being set to 0.0 in labels with no predicted samples. Use `zero_division` parameter to control this behavior.\n",
      "  _warn_prf(average, modifier, msg_start, len(result))\n",
      "C:\\Users\\91977\\anaconda3\\Lib\\site-packages\\sklearn\\metrics\\_classification.py:1469: UndefinedMetricWarning: Precision and F-score are ill-defined and being set to 0.0 in labels with no predicted samples. Use `zero_division` parameter to control this behavior.\n",
      "  _warn_prf(average, modifier, msg_start, len(result))\n",
      "C:\\Users\\91977\\anaconda3\\Lib\\site-packages\\sklearn\\metrics\\_classification.py:1469: UndefinedMetricWarning: Precision and F-score are ill-defined and being set to 0.0 in labels with no predicted samples. Use `zero_division` parameter to control this behavior.\n",
      "  _warn_prf(average, modifier, msg_start, len(result))\n"
     ]
    }
   ],
   "source": [
    "svc = SVC()\n",
    "svc.fit(X_train, y_train)\n",
    "y2_pred = svc.predict(X_test)\n",
    "print(\"Classification Report:\\n\",classification_report(y_test, y2_pred))"
   ]
  },
  {
   "cell_type": "code",
   "execution_count": 37,
   "id": "0a968acb",
   "metadata": {},
   "outputs": [
    {
     "data": {
      "text/plain": [
       "0.36"
      ]
     },
     "execution_count": 37,
     "metadata": {},
     "output_type": "execute_result"
    }
   ],
   "source": [
    "accuracy_score(y2_pred,y_test, normalize=True)"
   ]
  },
  {
   "cell_type": "code",
   "execution_count": 38,
   "id": "9e53dff2",
   "metadata": {},
   "outputs": [
    {
     "data": {
      "text/plain": [
       "<Axes: >"
      ]
     },
     "execution_count": 38,
     "metadata": {},
     "output_type": "execute_result"
    },
    {
     "data": {
      "image/png": "[encoded data removed]",
      "text/plain": [
       "<Figure size 640x480 with 2 Axes>"
      ]
     },
     "metadata": {},
     "output_type": "display_data"
    }
   ],
   "source": [
    "import seaborn as sns\n",
    "con=sm.confusion_matrix(y2_pred,y_test)\n",
    "sns.heatmap(con,annot=True,cmap='Purples')"
   ]
  },
  {
   "cell_type": "code",
   "execution_count": 39,
   "id": "d418229d",
   "metadata": {},
   "outputs": [
    {
     "name": "stdout",
     "output_type": "stream",
     "text": [
      "Classification Report:\n",
      "               precision    recall  f1-score   support\n",
      "\n",
      "           1       0.08      0.06      0.07        16\n",
      "           2       0.50      0.07      0.12        15\n",
      "           3       0.39      0.74      0.51        19\n",
      "\n",
      "    accuracy                           0.32        50\n",
      "   macro avg       0.32      0.29      0.23        50\n",
      "weighted avg       0.32      0.32      0.25        50\n",
      "\n"
     ]
    }
   ],
   "source": [
    "dtc = DecisionTreeClassifier()\n",
    "dtc.fit(X_train, y_train)\n",
    "y3_pred = dtc.predict(X_test)\n",
    "print(\"Classification Report:\\n\",classification_report(y_test, y3_pred))"
   ]
  },
  {
   "cell_type": "code",
   "execution_count": 40,
   "id": "fca0c5a0",
   "metadata": {},
   "outputs": [
    {
     "data": {
      "text/plain": [
       "0.32"
      ]
     },
     "execution_count": 40,
     "metadata": {},
     "output_type": "execute_result"
    }
   ],
   "source": [
    "accuracy_score(y3_pred,y_test, normalize=True)"
   ]
  },
  {
   "cell_type": "code",
   "execution_count": 41,
   "id": "e6b55fc9",
   "metadata": {},
   "outputs": [
    {
     "data": {
      "text/plain": [
       "<Axes: >"
      ]
     },
     "execution_count": 41,
     "metadata": {},
     "output_type": "execute_result"
    },
    {
     "data": {
      "image/png": "[encoded data removed]",
      "text/plain": [
       "<Figure size 640x480 with 2 Axes>"
      ]
     },
     "metadata": {},
     "output_type": "display_data"
    }
   ],
   "source": [
    "con=sm.confusion_matrix(y3_pred,y_test)\n",
    "sns.heatmap(con,annot=True,cmap='Purples')"
   ]
  },
  {
   "cell_type": "code",
   "execution_count": 42,
   "id": "a08d030f",
   "metadata": {},
   "outputs": [
    {
     "name": "stderr",
     "output_type": "stream",
     "text": [
      "C:\\Users\\91977\\anaconda3\\Lib\\site-packages\\sklearn\\base.py:1151: DataConversionWarning: A column-vector y was passed when a 1d array was expected. Please change the shape of y to (n_samples,), for example using ravel().\n",
      "  return fit_method(estimator, *args, **kwargs)\n"
     ]
    }
   ],
   "source": [
    "import time\n",
    "start_rfc = time.time()\n",
    "rfc = RandomForestClassifier(random_state=0, n_jobs=-1, max_depth=5, n_estimators=100, oob_score=True)\n",
    "rfc.fit(X_train, y_train)\n",
    "end_rfc = time.time()\n",
    "final_rfc = end_rfc - start_rfc\n",
    "final_rfc = round(final_rfc,3)\n",
    "y4_pred = rfc.predict(X_test)"
   ]
  },
  {
   "cell_type": "code",
   "execution_count": 43,
   "id": "e453e291",
   "metadata": {},
   "outputs": [
    {
     "name": "stdout",
     "output_type": "stream",
     "text": [
      "Computation time                    : 0.487Sec\n",
      "Classification Report:\n",
      "               precision    recall  f1-score   support\n",
      "\n",
      "           1       0.12      0.06      0.08        16\n",
      "           2       1.00      0.07      0.12        15\n",
      "           3       0.41      0.89      0.57        19\n",
      "\n",
      "    accuracy                           0.38        50\n",
      "   macro avg       0.51      0.34      0.26        50\n",
      "weighted avg       0.50      0.38      0.28        50\n",
      "\n"
     ]
    }
   ],
   "source": [
    "print(\"Computation time                    : {}Sec\".format(final_rfc))\n",
    "print(\"Classification Report:\\n\",classification_report(y_test, y4_pred))"
   ]
  },
  {
   "cell_type": "code",
   "execution_count": 44,
   "id": "c98b5b6e",
   "metadata": {},
   "outputs": [
    {
     "data": {
      "text/plain": [
       "0.38"
      ]
     },
     "execution_count": 44,
     "metadata": {},
     "output_type": "execute_result"
    }
   ],
   "source": [
    "accuracy_score(y4_pred,y_test, normalize=True)"
   ]
  },
  {
   "cell_type": "code",
   "execution_count": 45,
   "id": "bc086f0a",
   "metadata": {},
   "outputs": [
    {
     "data": {
      "text/plain": [
       "<Axes: >"
      ]
     },
     "execution_count": 45,
     "metadata": {},
     "output_type": "execute_result"
    },
    {
     "data": {
      "image/png": "[encoded data removed]",
      "text/plain": [
       "<Figure size 640x480 with 2 Axes>"
      ]
     },
     "metadata": {},
     "output_type": "display_data"
    }
   ],
   "source": [
    "con=sm.confusion_matrix(y4_pred,y_test)\n",
    "sns.heatmap(con,annot=True,cmap='Purples')"
   ]
  },
  {
   "cell_type": "code",
   "execution_count": 46,
   "id": "2640c865",
   "metadata": {},
   "outputs": [
    {
     "name": "stdout",
     "output_type": "stream",
     "text": [
      "Classification Report:\n",
      "               precision    recall  f1-score   support\n",
      "\n",
      "           1       0.42      0.88      0.57        16\n",
      "           2       0.60      0.20      0.30        15\n",
      "           3       0.50      0.32      0.39        19\n",
      "\n",
      "    accuracy                           0.46        50\n",
      "   macro avg       0.51      0.46      0.42        50\n",
      "weighted avg       0.51      0.46      0.42        50\n",
      "\n"
     ]
    },
    {
     "name": "stderr",
     "output_type": "stream",
     "text": [
      "C:\\Users\\91977\\anaconda3\\Lib\\site-packages\\sklearn\\utils\\validation.py:1184: DataConversionWarning: A column-vector y was passed when a 1d array was expected. Please change the shape of y to (n_samples, ), for example using ravel().\n",
      "  y = column_or_1d(y, warn=True)\n"
     ]
    }
   ],
   "source": [
    "nbmod=GaussianNB()\n",
    "nbmod.fit(X_train,y_train)\n",
    "y5_pred = nbmod.predict(X_test)\n",
    "print(\"Classification Report:\\n\",classification_report(y_test, y5_pred))"
   ]
  },
  {
   "cell_type": "code",
   "execution_count": 47,
   "id": "70b02a6f",
   "metadata": {},
   "outputs": [
    {
     "data": {
      "text/plain": [
       "0.46"
      ]
     },
     "execution_count": 47,
     "metadata": {},
     "output_type": "execute_result"
    }
   ],
   "source": [
    "accuracy_score(y5_pred,y_test, normalize=True)"
   ]
  },
  {
   "cell_type": "code",
   "execution_count": 48,
   "id": "2a602dc9",
   "metadata": {},
   "outputs": [
    {
     "data": {
      "text/plain": [
       "<Axes: >"
      ]
     },
     "execution_count": 48,
     "metadata": {},
     "output_type": "execute_result"
    },
    {
     "data": {
      "image/png": "[encoded data removed]",
      "text/plain": [
       "<Figure size 640x480 with 2 Axes>"
      ]
     },
     "metadata": {},
     "output_type": "display_data"
    }
   ],
   "source": [
    "con=sm.confusion_matrix(y5_pred,y_test)\n",
    "sns.heatmap(con,annot=True,cmap='Purples')"
   ]
  },
  {
   "cell_type": "code",
   "execution_count": 49,
   "id": "46b16b6f",
   "metadata": {},
   "outputs": [
    {
     "name": "stdout",
     "output_type": "stream",
     "text": [
      "Classification Report:\n",
      "               precision    recall  f1-score   support\n",
      "\n",
      "           1       0.35      0.81      0.49        16\n",
      "           2       1.00      0.07      0.12        15\n",
      "           3       0.50      0.32      0.39        19\n",
      "\n",
      "    accuracy                           0.40        50\n",
      "   macro avg       0.62      0.40      0.33        50\n",
      "weighted avg       0.60      0.40      0.34        50\n",
      "\n"
     ]
    },
    {
     "name": "stderr",
     "output_type": "stream",
     "text": [
      "C:\\Users\\91977\\anaconda3\\Lib\\site-packages\\sklearn\\neighbors\\_classification.py:228: DataConversionWarning: A column-vector y was passed when a 1d array was expected. Please change the shape of y to (n_samples,), for example using ravel().\n",
      "  return self._fit(X, y)\n"
     ]
    }
   ],
   "source": [
    "knn = KNeighborsClassifier(n_neighbors = 3, metric = 'minkowski', p = 2)\n",
    "knn.fit(X_train, y_train)\n",
    "y6_pred = knn.predict(X_test)\n",
    "print(\"Classification Report:\\n\",classification_report(y_test, y6_pred))"
   ]
  },
  {
   "cell_type": "code",
   "execution_count": 50,
   "id": "700d9ef3",
   "metadata": {},
   "outputs": [
    {
     "data": {
      "text/plain": [
       "0.4"
      ]
     },
     "execution_count": 50,
     "metadata": {},
     "output_type": "execute_result"
    }
   ],
   "source": [
    "\n",
    "accuracy_score(y6_pred,y_test, normalize=True)"
   ]
  },
  {
   "cell_type": "code",
   "execution_count": 51,
   "id": "5e91080f",
   "metadata": {},
   "outputs": [
    {
     "data": {
      "text/plain": [
       "<Axes: >"
      ]
     },
     "execution_count": 51,
     "metadata": {},
     "output_type": "execute_result"
    },
    {
     "data": {
      "image/png": "[encoded data removed]",
      "text/plain": [
       "<Figure size 640x480 with 2 Axes>"
      ]
     },
     "metadata": {},
     "output_type": "display_data"
    }
   ],
   "source": [
    "con=sm.confusion_matrix(y6_pred,y_test)\n",
    "sns.heatmap(con,annot=True,cmap='Purples')\n"
   ]
  },
  {
   "cell_type": "code",
   "execution_count": 54,
   "id": "60e4e9ab",
   "metadata": {},
   "outputs": [
    {
     "name": "stdout",
     "output_type": "stream",
     "text": [
      "TensorFlow version: 2.17.0\n",
      "Dataset shape: (250, 4)\n",
      "\n",
      "Label distribution:\n",
      "label\n",
      "3    118\n",
      "1     79\n",
      "2     53\n",
      "Name: count, dtype: int64\n",
      "\n",
      "Sample data:\n",
      "     x-gyro    y-gyro    z-gyro  label\n",
      "0 -0.001922 -0.002145  0.017354      1\n",
      "1 -0.001922 -0.002145  0.017354      1\n",
      "2  0.000945  0.028838  0.014668      1\n",
      "3  0.000921  0.013366 -0.028399      1\n",
      "4 -0.001922 -0.002145  0.017354      1\n",
      "Training sequences shape: (190, 10, 3)\n",
      "Testing sequences shape: (40, 10, 3)\n"
     ]
    },
    {
     "name": "stderr",
     "output_type": "stream",
     "text": [
      "C:\\Users\\91977\\anaconda3\\Lib\\site-packages\\keras\\src\\layers\\rnn\\rnn.py:204: UserWarning: Do not pass an `input_shape`/`input_dim` argument to a layer. When using Sequential models, prefer using an `Input(shape)` object as the first layer in the model instead.\n",
      "  super().__init__(**kwargs)\n"
     ]
    },
    {
     "data": {
      "text/html": [
       "<pre style=\"white-space:pre;overflow-x:auto;line-height:normal;font-family:Menlo,'DejaVu Sans Mono',consolas,'Courier New',monospace\"><span style=\"font-weight: bold\">Model: \"sequential\"</span>\n",
       "</pre>\n"
      ],
      "text/plain": [
       "\u001b[1mModel: \"sequential\"\u001b[0m\n"
      ]
     },
     "metadata": {},
     "output_type": "display_data"
    },
    {
     "data": {
      "text/html": [
       "<pre style=\"white-space:pre;overflow-x:auto;line-height:normal;font-family:Menlo,'DejaVu Sans Mono',consolas,'Courier New',monospace\">┏━━━━━━━━━━━━━━━━━━━━━━━━━━━━━━━━━━━━━━┳━━━━━━━━━━━━━━━━━━━━━━━━━━━━━┳━━━━━━━━━━━━━━━━━┓\n",
       "┃<span style=\"font-weight: bold\"> Layer (type)                         </span>┃<span style=\"font-weight: bold\"> Output Shape                </span>┃<span style=\"font-weight: bold\">         Param # </span>┃\n",
       "┡━━━━━━━━━━━━━━━━━━━━━━━━━━━━━━━━━━━━━━╇━━━━━━━━━━━━━━━━━━━━━━━━━━━━━╇━━━━━━━━━━━━━━━━━┩\n",
       "│ lstm (<span style=\"color: #0087ff; text-decoration-color: #0087ff\">LSTM</span>)                          │ (<span style=\"color: #00d7ff; text-decoration-color: #00d7ff\">None</span>, <span style=\"color: #00af00; text-decoration-color: #00af00\">10</span>, <span style=\"color: #00af00; text-decoration-color: #00af00\">64</span>)              │          <span style=\"color: #00af00; text-decoration-color: #00af00\">17,408</span> │\n",
       "├──────────────────────────────────────┼─────────────────────────────┼─────────────────┤\n",
       "│ dropout (<span style=\"color: #0087ff; text-decoration-color: #0087ff\">Dropout</span>)                    │ (<span style=\"color: #00d7ff; text-decoration-color: #00d7ff\">None</span>, <span style=\"color: #00af00; text-decoration-color: #00af00\">10</span>, <span style=\"color: #00af00; text-decoration-color: #00af00\">64</span>)              │               <span style=\"color: #00af00; text-decoration-color: #00af00\">0</span> │\n",
       "├──────────────────────────────────────┼─────────────────────────────┼─────────────────┤\n",
       "│ lstm_1 (<span style=\"color: #0087ff; text-decoration-color: #0087ff\">LSTM</span>)                        │ (<span style=\"color: #00d7ff; text-decoration-color: #00d7ff\">None</span>, <span style=\"color: #00af00; text-decoration-color: #00af00\">64</span>)                  │          <span style=\"color: #00af00; text-decoration-color: #00af00\">33,024</span> │\n",
       "├──────────────────────────────────────┼─────────────────────────────┼─────────────────┤\n",
       "│ dropout_1 (<span style=\"color: #0087ff; text-decoration-color: #0087ff\">Dropout</span>)                  │ (<span style=\"color: #00d7ff; text-decoration-color: #00d7ff\">None</span>, <span style=\"color: #00af00; text-decoration-color: #00af00\">64</span>)                  │               <span style=\"color: #00af00; text-decoration-color: #00af00\">0</span> │\n",
       "├──────────────────────────────────────┼─────────────────────────────┼─────────────────┤\n",
       "│ dense (<span style=\"color: #0087ff; text-decoration-color: #0087ff\">Dense</span>)                        │ (<span style=\"color: #00d7ff; text-decoration-color: #00d7ff\">None</span>, <span style=\"color: #00af00; text-decoration-color: #00af00\">32</span>)                  │           <span style=\"color: #00af00; text-decoration-color: #00af00\">2,080</span> │\n",
       "├──────────────────────────────────────┼─────────────────────────────┼─────────────────┤\n",
       "│ dense_1 (<span style=\"color: #0087ff; text-decoration-color: #0087ff\">Dense</span>)                      │ (<span style=\"color: #00d7ff; text-decoration-color: #00d7ff\">None</span>, <span style=\"color: #00af00; text-decoration-color: #00af00\">3</span>)                   │              <span style=\"color: #00af00; text-decoration-color: #00af00\">99</span> │\n",
       "└──────────────────────────────────────┴─────────────────────────────┴─────────────────┘\n",
       "</pre>\n"
      ],
      "text/plain": [
       "┏━━━━━━━━━━━━━━━━━━━━━━━━━━━━━━━━━━━━━━┳━━━━━━━━━━━━━━━━━━━━━━━━━━━━━┳━━━━━━━━━━━━━━━━━┓\n",
       "┃\u001b[1m \u001b[0m\u001b[1mLayer (type)                        \u001b[0m\u001b[1m \u001b[0m┃\u001b[1m \u001b[0m\u001b[1mOutput Shape               \u001b[0m\u001b[1m \u001b[0m┃\u001b[1m \u001b[0m\u001b[1m        Param #\u001b[0m\u001b[1m \u001b[0m┃\n",
       "┡━━━━━━━━━━━━━━━━━━━━━━━━━━━━━━━━━━━━━━╇━━━━━━━━━━━━━━━━━━━━━━━━━━━━━╇━━━━━━━━━━━━━━━━━┩\n",
       "│ lstm (\u001b[38;5;33mLSTM\u001b[0m)                          │ (\u001b[38;5;45mNone\u001b[0m, \u001b[38;5;34m10\u001b[0m, \u001b[38;5;34m64\u001b[0m)              │          \u001b[38;5;34m17,408\u001b[0m │\n",
       "├──────────────────────────────────────┼─────────────────────────────┼─────────────────┤\n",
       "│ dropout (\u001b[38;5;33mDropout\u001b[0m)                    │ (\u001b[38;5;45mNone\u001b[0m, \u001b[38;5;34m10\u001b[0m, \u001b[38;5;34m64\u001b[0m)              │               \u001b[38;5;34m0\u001b[0m │\n",
       "├──────────────────────────────────────┼─────────────────────────────┼─────────────────┤\n",
       "│ lstm_1 (\u001b[38;5;33mLSTM\u001b[0m)                        │ (\u001b[38;5;45mNone\u001b[0m, \u001b[38;5;34m64\u001b[0m)                  │          \u001b[38;5;34m33,024\u001b[0m │\n",
       "├──────────────────────────────────────┼─────────────────────────────┼─────────────────┤\n",
       "│ dropout_1 (\u001b[38;5;33mDropout\u001b[0m)                  │ (\u001b[38;5;45mNone\u001b[0m, \u001b[38;5;34m64\u001b[0m)                  │               \u001b[38;5;34m0\u001b[0m │\n",
       "├──────────────────────────────────────┼─────────────────────────────┼─────────────────┤\n",
       "│ dense (\u001b[38;5;33mDense\u001b[0m)                        │ (\u001b[38;5;45mNone\u001b[0m, \u001b[38;5;34m32\u001b[0m)                  │           \u001b[38;5;34m2,080\u001b[0m │\n",
       "├──────────────────────────────────────┼─────────────────────────────┼─────────────────┤\n",
       "│ dense_1 (\u001b[38;5;33mDense\u001b[0m)                      │ (\u001b[38;5;45mNone\u001b[0m, \u001b[38;5;34m3\u001b[0m)                   │              \u001b[38;5;34m99\u001b[0m │\n",
       "└──────────────────────────────────────┴─────────────────────────────┴─────────────────┘\n"
      ]
     },
     "metadata": {},
     "output_type": "display_data"
    },
    {
     "data": {
      "text/html": [
       "<pre style=\"white-space:pre;overflow-x:auto;line-height:normal;font-family:Menlo,'DejaVu Sans Mono',consolas,'Courier New',monospace\"><span style=\"font-weight: bold\"> Total params: </span><span style=\"color: #00af00; text-decoration-color: #00af00\">52,611</span> (205.51 KB)\n",
       "</pre>\n"
      ],
      "text/plain": [
       "\u001b[1m Total params: \u001b[0m\u001b[38;5;34m52,611\u001b[0m (205.51 KB)\n"
      ]
     },
     "metadata": {},
     "output_type": "display_data"
    },
    {
     "data": {
      "text/html": [
       "<pre style=\"white-space:pre;overflow-x:auto;line-height:normal;font-family:Menlo,'DejaVu Sans Mono',consolas,'Courier New',monospace\"><span style=\"font-weight: bold\"> Trainable params: </span><span style=\"color: #00af00; text-decoration-color: #00af00\">52,611</span> (205.51 KB)\n",
       "</pre>\n"
      ],
      "text/plain": [
       "\u001b[1m Trainable params: \u001b[0m\u001b[38;5;34m52,611\u001b[0m (205.51 KB)\n"
      ]
     },
     "metadata": {},
     "output_type": "display_data"
    },
    {
     "data": {
      "text/html": [
       "<pre style=\"white-space:pre;overflow-x:auto;line-height:normal;font-family:Menlo,'DejaVu Sans Mono',consolas,'Courier New',monospace\"><span style=\"font-weight: bold\"> Non-trainable params: </span><span style=\"color: #00af00; text-decoration-color: #00af00\">0</span> (0.00 B)\n",
       "</pre>\n"
      ],
      "text/plain": [
       "\u001b[1m Non-trainable params: \u001b[0m\u001b[38;5;34m0\u001b[0m (0.00 B)\n"
      ]
     },
     "metadata": {},
     "output_type": "display_data"
    },
    {
     "name": "stdout",
     "output_type": "stream",
     "text": [
      "Epoch 1/50\n",
      "\u001b[1m6/6\u001b[0m \u001b[32m━━━━━━━━━━━━━━━━━━━━\u001b[0m\u001b[37m\u001b[0m \u001b[1m9s\u001b[0m 320ms/step - accuracy: 0.4148 - loss: 1.0941 - val_accuracy: 0.5250 - val_loss: 1.0816\n",
      "Epoch 2/50\n",
      "\u001b[1m6/6\u001b[0m \u001b[32m━━━━━━━━━━━━━━━━━━━━\u001b[0m\u001b[37m\u001b[0m \u001b[1m0s\u001b[0m 28ms/step - accuracy: 0.4675 - loss: 1.0742 - val_accuracy: 0.5250 - val_loss: 1.0584\n",
      "Epoch 3/50\n",
      "\u001b[1m6/6\u001b[0m \u001b[32m━━━━━━━━━━━━━━━━━━━━\u001b[0m\u001b[37m\u001b[0m \u001b[1m0s\u001b[0m 30ms/step - accuracy: 0.4629 - loss: 1.0531 - val_accuracy: 0.5250 - val_loss: 1.0287\n",
      "Epoch 4/50\n",
      "\u001b[1m6/6\u001b[0m \u001b[32m━━━━━━━━━━━━━━━━━━━━\u001b[0m\u001b[37m\u001b[0m \u001b[1m0s\u001b[0m 28ms/step - accuracy: 0.4742 - loss: 1.0337 - val_accuracy: 0.5250 - val_loss: 1.0122\n",
      "Epoch 5/50\n",
      "\u001b[1m6/6\u001b[0m \u001b[32m━━━━━━━━━━━━━━━━━━━━\u001b[0m\u001b[37m\u001b[0m \u001b[1m0s\u001b[0m 28ms/step - accuracy: 0.4763 - loss: 1.0225 - val_accuracy: 0.5250 - val_loss: 1.0202\n",
      "Epoch 6/50\n",
      "\u001b[1m6/6\u001b[0m \u001b[32m━━━━━━━━━━━━━━━━━━━━\u001b[0m\u001b[37m\u001b[0m \u001b[1m0s\u001b[0m 29ms/step - accuracy: 0.4614 - loss: 1.0270 - val_accuracy: 0.5250 - val_loss: 1.0203\n",
      "Epoch 7/50\n",
      "\u001b[1m6/6\u001b[0m \u001b[32m━━━━━━━━━━━━━━━━━━━━\u001b[0m\u001b[37m\u001b[0m \u001b[1m0s\u001b[0m 28ms/step - accuracy: 0.4921 - loss: 1.0125 - val_accuracy: 0.5250 - val_loss: 1.0260\n",
      "Epoch 8/50\n",
      "\u001b[1m6/6\u001b[0m \u001b[32m━━━━━━━━━━━━━━━━━━━━\u001b[0m\u001b[37m\u001b[0m \u001b[1m0s\u001b[0m 27ms/step - accuracy: 0.4631 - loss: 1.0063 - val_accuracy: 0.5000 - val_loss: 1.0279\n",
      "Epoch 9/50\n",
      "\u001b[1m6/6\u001b[0m \u001b[32m━━━━━━━━━━━━━━━━━━━━\u001b[0m\u001b[37m\u001b[0m \u001b[1m0s\u001b[0m 27ms/step - accuracy: 0.4725 - loss: 1.0020 - val_accuracy: 0.4750 - val_loss: 1.0290\n",
      "Epoch 10/50\n",
      "\u001b[1m6/6\u001b[0m \u001b[32m━━━━━━━━━━━━━━━━━━━━\u001b[0m\u001b[37m\u001b[0m \u001b[1m0s\u001b[0m 28ms/step - accuracy: 0.4631 - loss: 0.9932 - val_accuracy: 0.5250 - val_loss: 1.0311\n",
      "Epoch 11/50\n",
      "\u001b[1m6/6\u001b[0m \u001b[32m━━━━━━━━━━━━━━━━━━━━\u001b[0m\u001b[37m\u001b[0m \u001b[1m0s\u001b[0m 28ms/step - accuracy: 0.4633 - loss: 0.9958 - val_accuracy: 0.5000 - val_loss: 1.0422\n",
      "Epoch 12/50\n",
      "\u001b[1m6/6\u001b[0m \u001b[32m━━━━━━━━━━━━━━━━━━━━\u001b[0m\u001b[37m\u001b[0m \u001b[1m0s\u001b[0m 30ms/step - accuracy: 0.4811 - loss: 0.9860 - val_accuracy: 0.5000 - val_loss: 1.0603\n",
      "Epoch 13/50\n",
      "\u001b[1m6/6\u001b[0m \u001b[32m━━━━━━━━━━━━━━━━━━━━\u001b[0m\u001b[37m\u001b[0m \u001b[1m0s\u001b[0m 27ms/step - accuracy: 0.4859 - loss: 0.9821 - val_accuracy: 0.5000 - val_loss: 1.0713\n",
      "Epoch 14/50\n",
      "\u001b[1m6/6\u001b[0m \u001b[32m━━━━━━━━━━━━━━━━━━━━\u001b[0m\u001b[37m\u001b[0m \u001b[1m0s\u001b[0m 28ms/step - accuracy: 0.4705 - loss: 0.9713 - val_accuracy: 0.5000 - val_loss: 1.0931\n",
      "Epoch 15/50\n",
      "\u001b[1m6/6\u001b[0m \u001b[32m━━━━━━━━━━━━━━━━━━━━\u001b[0m\u001b[37m\u001b[0m \u001b[1m0s\u001b[0m 27ms/step - accuracy: 0.4973 - loss: 0.9640 - val_accuracy: 0.5000 - val_loss: 1.1087\n",
      "Epoch 16/50\n",
      "\u001b[1m6/6\u001b[0m \u001b[32m━━━━━━━━━━━━━━━━━━━━\u001b[0m\u001b[37m\u001b[0m \u001b[1m0s\u001b[0m 29ms/step - accuracy: 0.5024 - loss: 0.9598 - val_accuracy: 0.4750 - val_loss: 1.1318\n",
      "Epoch 17/50\n",
      "\u001b[1m6/6\u001b[0m \u001b[32m━━━━━━━━━━━━━━━━━━━━\u001b[0m\u001b[37m\u001b[0m \u001b[1m0s\u001b[0m 26ms/step - accuracy: 0.4647 - loss: 0.9545 - val_accuracy: 0.4500 - val_loss: 1.1562\n",
      "Epoch 18/50\n",
      "\u001b[1m6/6\u001b[0m \u001b[32m━━━━━━━━━━━━━━━━━━━━\u001b[0m\u001b[37m\u001b[0m \u001b[1m0s\u001b[0m 28ms/step - accuracy: 0.5191 - loss: 0.9500 - val_accuracy: 0.4750 - val_loss: 1.1795\n",
      "Epoch 19/50\n",
      "\u001b[1m6/6\u001b[0m \u001b[32m━━━━━━━━━━━━━━━━━━━━\u001b[0m\u001b[37m\u001b[0m \u001b[1m0s\u001b[0m 34ms/step - accuracy: 0.4886 - loss: 0.9447 - val_accuracy: 0.4750 - val_loss: 1.1679\n",
      "Epoch 20/50\n",
      "\u001b[1m6/6\u001b[0m \u001b[32m━━━━━━━━━━━━━━━━━━━━\u001b[0m\u001b[37m\u001b[0m \u001b[1m0s\u001b[0m 28ms/step - accuracy: 0.5180 - loss: 0.9583 - val_accuracy: 0.4500 - val_loss: 1.1941\n",
      "Epoch 21/50\n",
      "\u001b[1m6/6\u001b[0m \u001b[32m━━━━━━━━━━━━━━━━━━━━\u001b[0m\u001b[37m\u001b[0m \u001b[1m0s\u001b[0m 28ms/step - accuracy: 0.4903 - loss: 0.9417 - val_accuracy: 0.4500 - val_loss: 1.1993\n",
      "Epoch 22/50\n",
      "\u001b[1m6/6\u001b[0m \u001b[32m━━━━━━━━━━━━━━━━━━━━\u001b[0m\u001b[37m\u001b[0m \u001b[1m0s\u001b[0m 29ms/step - accuracy: 0.5137 - loss: 0.9282 - val_accuracy: 0.4500 - val_loss: 1.2216\n",
      "Epoch 23/50\n",
      "\u001b[1m6/6\u001b[0m \u001b[32m━━━━━━━━━━━━━━━━━━━━\u001b[0m\u001b[37m\u001b[0m \u001b[1m0s\u001b[0m 28ms/step - accuracy: 0.5163 - loss: 0.9303 - val_accuracy: 0.4500 - val_loss: 1.2531\n",
      "Epoch 24/50\n",
      "\u001b[1m6/6\u001b[0m \u001b[32m━━━━━━━━━━━━━━━━━━━━\u001b[0m\u001b[37m\u001b[0m \u001b[1m0s\u001b[0m 28ms/step - accuracy: 0.5517 - loss: 0.9400 - val_accuracy: 0.4500 - val_loss: 1.2257\n",
      "Epoch 25/50\n",
      "\u001b[1m6/6\u001b[0m \u001b[32m━━━━━━━━━━━━━━━━━━━━\u001b[0m\u001b[37m\u001b[0m \u001b[1m0s\u001b[0m 28ms/step - accuracy: 0.5264 - loss: 0.9181 - val_accuracy: 0.4500 - val_loss: 1.2116\n",
      "Epoch 26/50\n",
      "\u001b[1m6/6\u001b[0m \u001b[32m━━━━━━━━━━━━━━━━━━━━\u001b[0m\u001b[37m\u001b[0m \u001b[1m0s\u001b[0m 30ms/step - accuracy: 0.5213 - loss: 0.9318 - val_accuracy: 0.4500 - val_loss: 1.2214\n",
      "Epoch 27/50\n",
      "\u001b[1m6/6\u001b[0m \u001b[32m━━━━━━━━━━━━━━━━━━━━\u001b[0m\u001b[37m\u001b[0m \u001b[1m0s\u001b[0m 26ms/step - accuracy: 0.5547 - loss: 0.9174 - val_accuracy: 0.4500 - val_loss: 1.2050\n",
      "Epoch 28/50\n",
      "\u001b[1m6/6\u001b[0m \u001b[32m━━━━━━━━━━━━━━━━━━━━\u001b[0m\u001b[37m\u001b[0m \u001b[1m0s\u001b[0m 27ms/step - accuracy: 0.5413 - loss: 0.9054 - val_accuracy: 0.4500 - val_loss: 1.2409\n",
      "Epoch 29/50\n",
      "\u001b[1m6/6\u001b[0m \u001b[32m━━━━━━━━━━━━━━━━━━━━\u001b[0m\u001b[37m\u001b[0m \u001b[1m0s\u001b[0m 27ms/step - accuracy: 0.5221 - loss: 0.9004 - val_accuracy: 0.4500 - val_loss: 1.2566\n",
      "Epoch 30/50\n",
      "\u001b[1m6/6\u001b[0m \u001b[32m━━━━━━━━━━━━━━━━━━━━\u001b[0m\u001b[37m\u001b[0m \u001b[1m0s\u001b[0m 28ms/step - accuracy: 0.5170 - loss: 0.8981 - val_accuracy: 0.4500 - val_loss: 1.2677\n",
      "Epoch 31/50\n",
      "\u001b[1m6/6\u001b[0m \u001b[32m━━━━━━━━━━━━━━━━━━━━\u001b[0m\u001b[37m\u001b[0m \u001b[1m0s\u001b[0m 28ms/step - accuracy: 0.5331 - loss: 0.8997 - val_accuracy: 0.4500 - val_loss: 1.3112\n",
      "Epoch 32/50\n",
      "\u001b[1m6/6\u001b[0m \u001b[32m━━━━━━━━━━━━━━━━━━━━\u001b[0m\u001b[37m\u001b[0m \u001b[1m0s\u001b[0m 26ms/step - accuracy: 0.5771 - loss: 0.8849 - val_accuracy: 0.4250 - val_loss: 1.3435\n",
      "Epoch 33/50\n",
      "\u001b[1m6/6\u001b[0m \u001b[32m━━━━━━━━━━━━━━━━━━━━\u001b[0m\u001b[37m\u001b[0m \u001b[1m0s\u001b[0m 28ms/step - accuracy: 0.5699 - loss: 0.8707 - val_accuracy: 0.4500 - val_loss: 1.2826\n",
      "Epoch 34/50\n",
      "\u001b[1m6/6\u001b[0m \u001b[32m━━━━━━━━━━━━━━━━━━━━\u001b[0m\u001b[37m\u001b[0m \u001b[1m0s\u001b[0m 29ms/step - accuracy: 0.6075 - loss: 0.8777 - val_accuracy: 0.4500 - val_loss: 1.3125\n",
      "Epoch 35/50\n",
      "\u001b[1m6/6\u001b[0m \u001b[32m━━━━━━━━━━━━━━━━━━━━\u001b[0m\u001b[37m\u001b[0m \u001b[1m0s\u001b[0m 30ms/step - accuracy: 0.5494 - loss: 0.8718 - val_accuracy: 0.4000 - val_loss: 1.3973\n",
      "Epoch 36/50\n",
      "\u001b[1m6/6\u001b[0m \u001b[32m━━━━━━━━━━━━━━━━━━━━\u001b[0m\u001b[37m\u001b[0m \u001b[1m0s\u001b[0m 27ms/step - accuracy: 0.5581 - loss: 0.8562 - val_accuracy: 0.4250 - val_loss: 1.3106\n",
      "Epoch 37/50\n",
      "\u001b[1m6/6\u001b[0m \u001b[32m━━━━━━━━━━━━━━━━━━━━\u001b[0m\u001b[37m\u001b[0m \u001b[1m0s\u001b[0m 27ms/step - accuracy: 0.5682 - loss: 0.8491 - val_accuracy: 0.4250 - val_loss: 1.2889\n",
      "Epoch 38/50\n",
      "\u001b[1m6/6\u001b[0m \u001b[32m━━━━━━━━━━━━━━━━━━━━\u001b[0m\u001b[37m\u001b[0m \u001b[1m0s\u001b[0m 29ms/step - accuracy: 0.5430 - loss: 0.8699 - val_accuracy: 0.4250 - val_loss: 1.2878\n",
      "Epoch 39/50\n",
      "\u001b[1m6/6\u001b[0m \u001b[32m━━━━━━━━━━━━━━━━━━━━\u001b[0m\u001b[37m\u001b[0m \u001b[1m0s\u001b[0m 28ms/step - accuracy: 0.6127 - loss: 0.8507 - val_accuracy: 0.4500 - val_loss: 1.2792\n",
      "Epoch 40/50\n",
      "\u001b[1m6/6\u001b[0m \u001b[32m━━━━━━━━━━━━━━━━━━━━\u001b[0m\u001b[37m\u001b[0m \u001b[1m0s\u001b[0m 28ms/step - accuracy: 0.5927 - loss: 0.8176 - val_accuracy: 0.4000 - val_loss: 1.3625\n",
      "Epoch 41/50\n",
      "\u001b[1m6/6\u001b[0m \u001b[32m━━━━━━━━━━━━━━━━━━━━\u001b[0m\u001b[37m\u001b[0m \u001b[1m0s\u001b[0m 29ms/step - accuracy: 0.5565 - loss: 0.8602 - val_accuracy: 0.4250 - val_loss: 1.3113\n",
      "Epoch 42/50\n",
      "\u001b[1m6/6\u001b[0m \u001b[32m━━━━━━━━━━━━━━━━━━━━\u001b[0m\u001b[37m\u001b[0m \u001b[1m0s\u001b[0m 30ms/step - accuracy: 0.5986 - loss: 0.8142 - val_accuracy: 0.4250 - val_loss: 1.3402\n",
      "Epoch 43/50\n",
      "\u001b[1m6/6\u001b[0m \u001b[32m━━━━━━━━━━━━━━━━━━━━\u001b[0m\u001b[37m\u001b[0m \u001b[1m0s\u001b[0m 28ms/step - accuracy: 0.6177 - loss: 0.8185 - val_accuracy: 0.4500 - val_loss: 1.3693\n",
      "Epoch 44/50\n",
      "\u001b[1m6/6\u001b[0m \u001b[32m━━━━━━━━━━━━━━━━━━━━\u001b[0m\u001b[37m\u001b[0m \u001b[1m0s\u001b[0m 28ms/step - accuracy: 0.5693 - loss: 0.8340 - val_accuracy: 0.3750 - val_loss: 1.3983\n",
      "Epoch 45/50\n",
      "\u001b[1m6/6\u001b[0m \u001b[32m━━━━━━━━━━━━━━━━━━━━\u001b[0m\u001b[37m\u001b[0m \u001b[1m0s\u001b[0m 28ms/step - accuracy: 0.5740 - loss: 0.8308 - val_accuracy: 0.3750 - val_loss: 1.4479\n",
      "Epoch 46/50\n",
      "\u001b[1m6/6\u001b[0m \u001b[32m━━━━━━━━━━━━━━━━━━━━\u001b[0m\u001b[37m\u001b[0m \u001b[1m0s\u001b[0m 28ms/step - accuracy: 0.6437 - loss: 0.8000 - val_accuracy: 0.4000 - val_loss: 1.4071\n",
      "Epoch 47/50\n",
      "\u001b[1m6/6\u001b[0m \u001b[32m━━━━━━━━━━━━━━━━━━━━\u001b[0m\u001b[37m\u001b[0m \u001b[1m0s\u001b[0m 28ms/step - accuracy: 0.6049 - loss: 0.7860 - val_accuracy: 0.4000 - val_loss: 1.4282\n",
      "Epoch 48/50\n",
      "\u001b[1m6/6\u001b[0m \u001b[32m━━━━━━━━━━━━━━━━━━━━\u001b[0m\u001b[37m\u001b[0m \u001b[1m0s\u001b[0m 32ms/step - accuracy: 0.5872 - loss: 0.7919 - val_accuracy: 0.3750 - val_loss: 1.4754\n",
      "Epoch 49/50\n",
      "\u001b[1m6/6\u001b[0m \u001b[32m━━━━━━━━━━━━━━━━━━━━\u001b[0m\u001b[37m\u001b[0m \u001b[1m0s\u001b[0m 26ms/step - accuracy: 0.6361 - loss: 0.7911 - val_accuracy: 0.4000 - val_loss: 1.3615\n",
      "Epoch 50/50\n",
      "\u001b[1m6/6\u001b[0m \u001b[32m━━━━━━━━━━━━━━━━━━━━\u001b[0m\u001b[37m\u001b[0m \u001b[1m0s\u001b[0m 30ms/step - accuracy: 0.6243 - loss: 0.7696 - val_accuracy: 0.4000 - val_loss: 1.4284\n"
     ]
    },
    {
     "data": {
      "image/png": "[encoded data removed]",
      "text/plain": [
       "<Figure size 1200x500 with 2 Axes>"
      ]
     },
     "metadata": {},
     "output_type": "display_data"
    },
    {
     "name": "stdout",
     "output_type": "stream",
     "text": [
      "\u001b[1m2/2\u001b[0m \u001b[32m━━━━━━━━━━━━━━━━━━━━\u001b[0m\u001b[37m\u001b[0m \u001b[1m1s\u001b[0m 565ms/step\n",
      "\n",
      "Classification Report:\n",
      "              precision    recall  f1-score   support\n",
      "\n",
      "           1       0.00      0.00      0.00        11\n",
      "           2       0.19      0.38      0.25         8\n",
      "           3       0.57      0.62      0.59        21\n",
      "\n",
      "    accuracy                           0.40        40\n",
      "   macro avg       0.25      0.33      0.28        40\n",
      "weighted avg       0.33      0.40      0.36        40\n",
      "\n"
     ]
    },
    {
     "data": {
      "image/png": "[encoded data removed]",
      "text/plain": [
       "<Figure size 800x600 with 2 Axes>"
      ]
     },
     "metadata": {},
     "output_type": "display_data"
    },
    {
     "name": "stderr",
     "output_type": "stream",
     "text": [
      "WARNING:absl:You are saving your model as an HDF5 file via `model.save()` or `keras.saving.save_model(model)`. This file format is considered legacy. We recommend using instead the native Keras format, e.g. `model.save('my_model.keras')` or `keras.saving.save_model(model, 'my_model.keras')`. \n"
     ]
    },
    {
     "name": "stdout",
     "output_type": "stream",
     "text": [
      "Model training and evaluation complete!\n"
     ]
    }
   ],
   "source": [
    "import pandas as pd\n",
    "import numpy as np\n",
    "from sklearn.model_selection import train_test_split\n",
    "from sklearn.preprocessing import StandardScaler\n",
    "from sklearn.metrics import classification_report, confusion_matrix\n",
    "import matplotlib.pyplot as plt\n",
    "import seaborn as sns\n",
    "\n",
    "# Try importing tensorflow and keras\n",
    "try:\n",
    "    import tensorflow as tf\n",
    "    from tensorflow.keras.models import Sequential\n",
    "    from tensorflow.keras.layers import LSTM, Dense, Dropout\n",
    "    from tensorflow.keras.utils import to_categorical\n",
    "    print(\"TensorFlow version:\", tf.__version__)\n",
    "except ImportError:\n",
    "    print(\"TensorFlow is not installed. Please install it using:\")\n",
    "    print(\"pip install tensorflow\")\n",
    "    # If TensorFlow isn't installed, provide installation instructions\n",
    "    raise\n",
    "\n",
    "# Set random seeds for reproducibility\n",
    "np.random.seed(42)\n",
    "tf.random.set_seed(42)\n",
    "\n",
    "# Load and preprocess the data\n",
    "data = pd.read_csv('gyroscope_data_cleaned.csv')\n",
    "\n",
    "# Display basic information about the dataset\n",
    "print(\"Dataset shape:\", data.shape)\n",
    "print(\"\\nLabel distribution:\")\n",
    "print(data['label'].value_counts())\n",
    "print(\"\\nSample data:\")\n",
    "print(data.head())\n",
    "\n",
    "# Separate features and target\n",
    "X = data[['x-gyro', 'y-gyro', 'z-gyro']].values\n",
    "y = data['label'].values - 1  # Adjust labels to start from 0 (for Keras)\n",
    "\n",
    "# Split the data\n",
    "X_train, X_test, y_train, y_test = train_test_split(X, y, test_size=0.2, random_state=42, stratify=y)\n",
    "\n",
    "# Scale the features\n",
    "scaler = StandardScaler()\n",
    "X_train = scaler.fit_transform(X_train)\n",
    "X_test = scaler.transform(X_test)\n",
    "\n",
    "# Create sequence data for LSTM\n",
    "def create_sequences(X, y, sequence_length=10):\n",
    "    Xs, ys = [], []\n",
    "    for i in range(len(X) - sequence_length):\n",
    "        Xs.append(X[i:i+sequence_length])\n",
    "        ys.append(y[i+sequence_length])\n",
    "    return np.array(Xs), np.array(ys)\n",
    "\n",
    "# Define sequence length\n",
    "seq_length = 10\n",
    "\n",
    "# Create sequences\n",
    "X_train_seq, y_train_seq = create_sequences(X_train, y_train, seq_length)\n",
    "X_test_seq, y_test_seq = create_sequences(X_test, y_test, seq_length)\n",
    "\n",
    "# Convert labels to categorical (one-hot encoding)\n",
    "y_train_cat = to_categorical(y_train_seq, num_classes=3)\n",
    "y_test_cat = to_categorical(y_test_seq, num_classes=3)\n",
    "\n",
    "print(\"Training sequences shape:\", X_train_seq.shape)\n",
    "print(\"Testing sequences shape:\", X_test_seq.shape)\n",
    "\n",
    "# Build LSTM model\n",
    "def create_lstm_model(input_shape, num_classes=3):\n",
    "    model = Sequential([\n",
    "        LSTM(64, input_shape=input_shape, return_sequences=True),\n",
    "        Dropout(0.2),\n",
    "        LSTM(64),\n",
    "        Dropout(0.2),\n",
    "        Dense(32, activation='relu'),\n",
    "        Dense(num_classes, activation='softmax')\n",
    "    ])\n",
    "    \n",
    "    model.compile(\n",
    "        optimizer='adam',\n",
    "        loss='categorical_crossentropy',\n",
    "        metrics=['accuracy']\n",
    "    )\n",
    "    \n",
    "    return model\n",
    "\n",
    "# Create and compile the model\n",
    "model = create_lstm_model((seq_length, 3), num_classes=3)\n",
    "model.summary()\n",
    "\n",
    "# Train the model\n",
    "history = model.fit(\n",
    "    X_train_seq, y_train_cat,\n",
    "    validation_data=(X_test_seq, y_test_cat),\n",
    "    epochs=50,\n",
    "    batch_size=32,\n",
    "    verbose=1\n",
    ")\n",
    "\n",
    "# Plot training history\n",
    "plt.figure(figsize=(12, 5))\n",
    "\n",
    "# Plot training & validation accuracy\n",
    "plt.subplot(1, 2, 1)\n",
    "plt.plot(history.history['accuracy'])\n",
    "plt.plot(history.history['val_accuracy'])\n",
    "plt.title('Model Accuracy')\n",
    "plt.xlabel('Epoch')\n",
    "plt.ylabel('Accuracy')\n",
    "plt.legend(['Train', 'Validation'], loc='lower right')\n",
    "\n",
    "# Plot training & validation loss\n",
    "plt.subplot(1, 2, 2)\n",
    "plt.plot(history.history['loss'])\n",
    "plt.plot(history.history['val_loss'])\n",
    "plt.title('Model Loss')\n",
    "plt.xlabel('Epoch')\n",
    "plt.ylabel('Loss')\n",
    "plt.legend(['Train', 'Validation'], loc='upper right')\n",
    "\n",
    "plt.tight_layout()\n",
    "plt.savefig('training_history.png')\n",
    "plt.show()\n",
    "\n",
    "# Evaluate the model\n",
    "y_pred_prob = model.predict(X_test_seq)\n",
    "y_pred = np.argmax(y_pred_prob, axis=1)\n",
    "\n",
    "# Convert predictions and test labels back to original range (1-3)\n",
    "y_pred_original = y_pred + 1\n",
    "y_test_original = y_test_seq + 1\n",
    "\n",
    "# Print classification report\n",
    "print(\"\\nClassification Report:\")\n",
    "print(classification_report(y_test_original, y_pred_original))\n",
    "\n",
    "# Plot confusion matrix\n",
    "cm = confusion_matrix(y_test_original, y_pred_original)\n",
    "plt.figure(figsize=(8, 6))\n",
    "sns.heatmap(cm, annot=True, fmt='d', cmap='Blues', \n",
    "            xticklabels=['Class 1', 'Class 2', 'Class 3'],\n",
    "            yticklabels=['Class 1', 'Class 2', 'Class 3'])\n",
    "plt.xlabel('Predicted')\n",
    "plt.ylabel('Actual')\n",
    "plt.title('Confusion Matrix')\n",
    "plt.tight_layout()\n",
    "plt.savefig('confusion_matrix.png')\n",
    "plt.show()\n",
    "\n",
    "# Save the model\n",
    "model.save('gyroscope_lstm_model.h5')\n",
    "\n",
    "# Function to predict on new data\n",
    "def predict_new_data(model, new_data, scaler, seq_length=10):\n",
    "    # Scale new data using the same scaler\n",
    "    new_data_scaled = scaler.transform(new_data)\n",
    "    \n",
    "    # Create sequences\n",
    "    sequences = []\n",
    "    for i in range(len(new_data_scaled) - seq_length + 1):\n",
    "        sequences.append(new_data_scaled[i:i+seq_length])\n",
    "    \n",
    "    # Convert to numpy array\n",
    "    sequences = np.array(sequences)\n",
    "    \n",
    "    # Make predictions\n",
    "    predictions_prob = model.predict(sequences)\n",
    "    predictions = np.argmax(predictions_prob, axis=1)\n",
    "    \n",
    "    # Convert predictions back to original range (1-3)\n",
    "    predictions = predictions + 1\n",
    "    \n",
    "    return predictions\n",
    "\n",
    "\n",
    "print(\"Model training and evaluation complete!\")"
   ]
  },
  {
   "cell_type": "code",
   "execution_count": null,
   "id": "7994497c",
   "metadata": {},
   "outputs": [],
   "source": []
  },
  {
   "cell_type": "code",
   "execution_count": null,
   "id": "caac8ae3",
   "metadata": {},
   "outputs": [],
   "source": []
  },
  {
   "cell_type": "code",
   "execution_count": null,
   "id": "da5806ce",
   "metadata": {},
   "outputs": [],
   "source": []
  }
 ],
 "metadata": {
  "kernelspec": {
   "display_name": "Python 3 (ipykernel)",
   "language": "python",
   "name": "python3"
  },
  "language_info": {
   "codemirror_mode": {
    "name": "ipython",
    "version": 3
   },
   "file_extension": ".py",
   "mimetype": "text/x-python",
   "name": "python",
   "nbconvert_exporter": "python",
   "pygments_lexer": "ipython3",
   "version": "3.11.5"
  }
 },
 "nbformat": 4,
 "nbformat_minor": 5
}
